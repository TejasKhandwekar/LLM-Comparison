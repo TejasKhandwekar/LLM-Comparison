{
 "cells": [
  {
   "cell_type": "code",
   "execution_count": 32,
   "metadata": {},
   "outputs": [],
   "source": [
    "# %%\n",
    "import pandas as pd\n",
    "import numpy as np\n",
    "import time\n",
    "from neuralforecast import NeuralForecast\n",
    "from neuralforecast.models import NBEATS, NHITS, TFT\n",
    "from statsforecast.core import StatsForecast\n",
    "from neuralforecast.auto import AutoMLP, AutoDeepAR, AutoNBEATS, AutoNHITS, AutoTFT, AutoDeepNPTS\n",
    "from statsforecast.models import (\n",
    "    Naive, SeasonalNaive, ARIMA, SimpleExponentialSmoothing, ETS,\n",
    "    HistoricAverage, WindowAverage, AutoARIMA, AutoETS, AutoCES, AutoTheta\n",
    ")\n",
    "from mlforecast import MLForecast\n",
    "from xgboost import XGBRegressor\n",
    "from catboost import CatBoostRegressor\n",
    "from sklearn.ensemble import RandomForestRegressor\n",
    "import lightgbm as lgb\n",
    "from mlforecast.target_transforms import Differences\n",
    "from mlforecast.lag_transforms import ExpandingMean, RollingMean\n",
    "from numba import njit\n",
    "from window_ops.rolling import rolling_mean\n",
    "import plotly.graph_objects as go\n"
   ]
  },
  {
   "cell_type": "code",
   "execution_count": 33,
   "metadata": {},
   "outputs": [],
   "source": [
    "\n",
    "# %%\n",
    "# Define utility functions\n",
    "def evaluate_forecast(y_true, y_pred):\n",
    "    return np.sqrt(np.mean((y_true.values - y_pred.values) ** 2))\n",
    "\n",
    "def smape(y_true, y_pred):\n",
    "    return 100 * np.mean(np.abs(y_pred - y_true) / (np.abs(y_true) + np.abs(y_pred)) / 2)\n",
    "\n",
    "def rmsse(y_true, y_pred, train):\n",
    "    naive_forecast = np.roll(train, 1)\n",
    "    naive_forecast[0] = train[0]\n",
    "    scale = np.mean((train - naive_forecast) ** 2)\n",
    "    return np.sqrt(np.mean((y_true - y_pred) ** 2) / scale)\n",
    "\n",
    "def calculate_errors(test, forecasts, train):\n",
    "    error_dict = {}\n",
    "    for col in forecasts.columns:\n",
    "        if col in ['ds', 'unique_id']:\n",
    "            continue\n",
    "        else:\n",
    "            y_true = test['y'].values\n",
    "            y_pred = forecasts[col].values\n",
    "            error_dict.update({\n",
    "                f'{col}_RMSE': evaluate_forecast(test['y'], forecasts[col]),\n",
    "                f'{col}_SMAPE': smape(y_true, y_pred),\n",
    "                f'{col}_RMSSE': rmsse(y_true, y_pred, train['y'].values)\n",
    "            })\n",
    "    return pd.DataFrame(error_dict, index=['Error'])\n",
    "\n",
    "def run_forecast(fore, model_params, train, test_size, freq='ME', multi_origin=False, horizon_list=[3, 6, 12]):\n",
    "    sf = StatsForecast(models=model_cls, freq=freq, n_jobs=-1)\n",
    "    if multi_origin:\n",
    "        forecasts_list = []\n",
    "        for horizon in horizon_list:\n",
    "            forecasts_df = sf.forecast(df=train, h=horizon)\n",
    "            forecasts_list.append(forecasts_df)\n",
    "        return forecasts_list\n",
    "    else:\n",
    "        start_time = time.time()\n",
    "        forecasts_df = sf.forecast(df=train, h=test_size)\n",
    "        train_time = time.time() - start_time\n",
    "        return forecasts_df, train_time\n"
   ]
  },
  {
   "cell_type": "code",
   "execution_count": 34,
   "metadata": {},
   "outputs": [],
   "source": [
    "\n",
    "# %%\n",
    "# Load and prepare data\n",
    "from statsforecast.utils import AirPassengersDF\n",
    "\n",
    "df = AirPassengersDF\n",
    "test_size = 24\n",
    "train_size = len(df) - test_size\n",
    "train, test = df[:train_size], df[train_size:]\n",
    "\n",
    "df.to_csv('Air_passengers.csv')\n"
   ]
  },
  {
   "cell_type": "code",
   "execution_count": 35,
   "metadata": {},
   "outputs": [
    {
     "name": "stderr",
     "output_type": "stream",
     "text": [
      "c:\\Users\\91976\\Desktop\\Forecast_llm_comparison\\.env\\lib\\site-packages\\statsforecast\\models.py:880: FutureWarning: `ETS` will be deprecated in future versions of `StatsForecast`. Please use `AutoETS` instead.\n",
      "  ETS._warn()\n"
     ]
    }
   ],
   "source": [
    "\n",
    "# %%\n",
    "# Define models and parameters\n",
    "basic_models = [\n",
    "    Naive(),\n",
    "    SeasonalNaive(12),\n",
    "    ARIMA(order=[12, 1, 0]),\n",
    "    ARIMA(order=[0, 1, 1], seasonal_order=[0, 1, 1], season_length=12, alias='SARIMA'),\n",
    "    SimpleExponentialSmoothing(alpha=0.28),\n",
    "    ETS(model='ZZZ', season_length=12),\n",
    "    HistoricAverage(),\n",
    "    WindowAverage(window_size=6)\n",
    "]\n",
    "\n",
    "auto_models = [\n",
    "    AutoARIMA(max_p=12),\n",
    "    AutoETS(season_length=12),\n",
    "    AutoCES(season_length=12, alias='AutoCES'),\n",
    "    AutoTheta(season_length=12)\n",
    "]\n"
   ]
  },
  {
   "cell_type": "code",
   "execution_count": 36,
   "metadata": {},
   "outputs": [],
   "source": [
    "@njit\n",
    "def rolling_mean_12(x):\n",
    "    return rolling_mean(x, window_size=12)\n",
    "\n",
    "\n",
    "def month_index(times):\n",
    "    return times.month\n",
    "\n",
    "\n",
    "lgb_params = {'verbosity': -1, 'num_leaves': 512}\n",
    "catboost_params = {'subsample': 0.6, 'iterations': 50, 'depth': 5, 'verbose': 0}\n",
    "xgboost_params = {'verbosity': 0, 'max_depth': 5, 'subsample': 0.6}\n",
    "randomforest_params = {'verbose': 0, 'max_depth': 5}\n",
    "\n",
    "tree_models = {\n",
    "    'LightGBM': lgb.LGBMRegressor(**lgb_params),\n",
    "    'CatBoost': CatBoostRegressor(**catboost_params),\n",
    "    'XgBoost': XGBRegressor(**xgboost_params),\n",
    "    'RandomForest': RandomForestRegressor(**randomforest_params)\n",
    "}\n"
   ]
  },
  {
   "cell_type": "code",
   "execution_count": 37,
   "metadata": {},
   "outputs": [
    {
     "name": "stderr",
     "output_type": "stream",
     "text": [
      "Seed set to 1\n",
      "Seed set to 1\n",
      "c:\\Users\\91976\\Desktop\\Forecast_llm_comparison\\.env\\lib\\site-packages\\pytorch_lightning\\utilities\\parsing.py:199: Attribute 'loss' is an instance of `nn.Module` and is already saved during checkpointing. It is recommended to ignore them using `self.save_hyperparameters(ignore=['loss'])`.\n"
     ]
    }
   ],
   "source": [
    "from ray import tune\n",
    "neural_models = [\n",
    "    NBEATS(input_size=2 * test_size, h=test_size, max_steps=50),\n",
    "    NHITS(input_size=2 * test_size, h=test_size, max_steps=50),\n",
    "    AutoMLP(config=dict(max_steps=50, input_size=tune.choice([3 * test_size]), learning_rate=tune.choice([1e-3])), h=test_size, num_samples=1, cpus=3),\n",
    "    AutoNBEATS(config=dict(max_steps=50, input_size=tune.choice([3 * test_size]), learning_rate=tune.choice([1e-3])), h=test_size, num_samples=1, cpus=3),\n",
    "    AutoNHITS(config=dict(max_steps=50, input_size=tune.choice([3 * test_size]), learning_rate=tune.choice([1e-3])), h=test_size, num_samples=1, cpus=3),\n",
    "    AutoTFT(config=dict(max_steps=50, input_size=tune.choice([3 * test_size]), learning_rate=tune.choice([1e-3])), h=test_size, num_samples=1, cpus=3)\n",
    "]\n"
   ]
  },
  {
   "cell_type": "code",
   "execution_count": 38,
   "metadata": {},
   "outputs": [
    {
     "name": "stderr",
     "output_type": "stream",
     "text": [
      "c:\\Users\\91976\\Desktop\\Forecast_llm_comparison\\.env\\lib\\site-packages\\statsforecast\\core.py:485: FutureWarning: In a future version the predictions will have the id as a column. You can set the `NIXTLA_ID_AS_COL` environment variable to adopt the new behavior and to suppress this warning.\n",
      "  warnings.warn(\n"
     ]
    }
   ],
   "source": [
    "\n",
    "# %%\n",
    "# Run forecasts and collect errors\n",
    "error_dfs = []\n",
    "\n",
    "# Basic models\n",
    "forecasts_df, train_time = run_forecast(basic_models, {}, train, test_size)\n",
    "error_non_auto = calculate_errors(test, forecasts_df, train)\n",
    "error_non_auto['Train_Time'] = train_time\n",
    "error_dfs.append(error_non_auto)\n"
   ]
  },
  {
   "cell_type": "code",
   "execution_count": 39,
   "metadata": {},
   "outputs": [
    {
     "name": "stderr",
     "output_type": "stream",
     "text": [
      "c:\\Users\\91976\\Desktop\\Forecast_llm_comparison\\.env\\lib\\site-packages\\statsforecast\\core.py:485: FutureWarning: In a future version the predictions will have the id as a column. You can set the `NIXTLA_ID_AS_COL` environment variable to adopt the new behavior and to suppress this warning.\n",
      "  warnings.warn(\n"
     ]
    }
   ],
   "source": [
    "\n",
    "# Auto models\n",
    "forecasts_df_auto, train_time = run_forecast(auto_models, {}, train, test_size)\n",
    "error_auto = calculate_errors(test, forecasts_df_auto, train)\n",
    "error_auto['Train_Time'] = train_time\n",
    "error_dfs.append(error_auto)\n"
   ]
  },
  {
   "cell_type": "code",
   "execution_count": 40,
   "metadata": {},
   "outputs": [],
   "source": [
    "\n",
    "# MLForecast with tree models\n",
    "fcst = MLForecast(\n",
    "    models=tree_models,\n",
    "    freq=\"ME\",\n",
    "    target_transforms=[Differences([12])],\n",
    "    lags=[1, 2, 3, 4, 11, 12],\n",
    "    lag_transforms={1: [ExpandingMean()], 12: [RollingMean(window_size=12), rolling_mean_12]},\n",
    "    date_features=[month_index]\n",
    ")\n"
   ]
  },
  {
   "cell_type": "code",
   "execution_count": 41,
   "metadata": {},
   "outputs": [],
   "source": [
    "\n",
    "start_time = time.time()\n",
    "prep = fcst.preprocess(train)\n",
    "fcst.fit(train)\n",
    "forecasts_df_tree = fcst.predict(test_size)\n",
    "train_time = time.time() - start_time\n",
    "\n",
    "error_tree = calculate_errors(test, forecasts_df_tree, train)\n",
    "error_tree['Train_Time'] = train_time\n",
    "error_dfs.append(error_tree)\n"
   ]
  },
  {
   "cell_type": "code",
   "execution_count": 42,
   "metadata": {},
   "outputs": [
    {
     "data": {
      "text/html": [],
      "text/plain": [
       "<IPython.core.display.HTML object>"
      ]
     },
     "metadata": {},
     "output_type": "display_data"
    },
    {
     "name": "stderr",
     "output_type": "stream",
     "text": [
      "\u001b[36m(_train_tune pid=9720)\u001b[0m c:\\Users\\91976\\Desktop\\Forecast_llm_comparison\\.env\\lib\\site-packages\\ray\\tune\\integration\\pytorch_lightning.py:198: `ray.tune.integration.pytorch_lightning.TuneReportCallback` is deprecated. Use `ray.tune.integration.pytorch_lightning.TuneReportCheckpointCallback` instead.\n",
      "\u001b[36m(_train_tune pid=9720)\u001b[0m Seed set to 1\n",
      "\u001b[36m(_train_tune pid=9720)\u001b[0m c:\\Users\\91976\\Desktop\\Forecast_llm_comparison\\.env\\lib\\site-packages\\torch\\nn\\init.py:452: UserWarning: Initializing zero-element tensors is a no-op\n",
      "\u001b[36m(_train_tune pid=9720)\u001b[0m   warnings.warn(\"Initializing zero-element tensors is a no-op\")\n",
      "\u001b[36m(_train_tune pid=9720)\u001b[0m c:\\Users\\91976\\Desktop\\Forecast_llm_comparison\\.env\\lib\\site-packages\\neuralforecast\\common\\_base_model.py:208: UserWarning: val_check_steps is greater than max_steps, setting val_check_steps to max_steps.\n",
      "\u001b[36m(_train_tune pid=9720)\u001b[0m   warnings.warn(\n",
      "\u001b[36m(_train_tune pid=9720)\u001b[0m GPU available: False, used: False\n",
      "\u001b[36m(_train_tune pid=9720)\u001b[0m TPU available: False, using: 0 TPU cores\n",
      "\u001b[36m(_train_tune pid=9720)\u001b[0m IPU available: False, using: 0 IPUs\n",
      "\u001b[36m(_train_tune pid=9720)\u001b[0m HPU available: False, using: 0 HPUs\n",
      "\u001b[36m(_train_tune pid=9720)\u001b[0m Missing logger folder: C:\\Users\\91976\\AppData\\Local\\Temp\\ray\\session_2024-07-06_14-51-20_665817_1336\\artifacts\\2024-07-06_14-52-36\\_train_tune_2024-07-06_14-52-36\\working_dirs\\_train_tune_36de0_00000\\lightning_logs\n",
      "\u001b[36m(_train_tune pid=9720)\u001b[0m 2024-07-06 14:52:44.909391: I tensorflow/core/util/port.cc:113] oneDNN custom operations are on. You may see slightly different numerical results due to floating-point round-off errors from different computation orders. To turn them off, set the environment variable `TF_ENABLE_ONEDNN_OPTS=0`.\n",
      "\u001b[36m(_train_tune pid=9720)\u001b[0m 2024-07-06 14:52:45.781494: I tensorflow/core/util/port.cc:113] oneDNN custom operations are on. You may see slightly different numerical results due to floating-point round-off errors from different computation orders. To turn them off, set the environment variable `TF_ENABLE_ONEDNN_OPTS=0`.\n",
      "\u001b[36m(_train_tune pid=9720)\u001b[0m \n",
      "\u001b[36m(_train_tune pid=9720)\u001b[0m   | Name                    | Type                     | Params\n",
      "\u001b[36m(_train_tune pid=9720)\u001b[0m ---------------------------------------------------------------------\n",
      "\u001b[36m(_train_tune pid=9720)\u001b[0m 0 | loss                    | MAE                      | 0     \n",
      "\u001b[36m(_train_tune pid=9720)\u001b[0m 1 | padder_train            | ConstantPad1d            | 0     \n",
      "\u001b[36m(_train_tune pid=9720)\u001b[0m 2 | scaler                  | TemporalNorm             | 0     \n",
      "\u001b[36m(_train_tune pid=9720)\u001b[0m 3 | embedding               | TFTEmbedding             | 512   \n",
      "\u001b[36m(_train_tune pid=9720)\u001b[0m 4 | static_encoder          | StaticCovariateEncoder   | 331 K \n",
      "\u001b[36m(_train_tune pid=9720)\u001b[0m 5 | temporal_encoder        | TemporalCovariateEncoder | 613 K \n",
      "\u001b[36m(_train_tune pid=9720)\u001b[0m 6 | temporal_fusion_decoder | TemporalFusionDecoder    | 256 K \n",
      "\u001b[36m(_train_tune pid=9720)\u001b[0m 7 | output_adapter          | Linear                   | 129   \n",
      "\u001b[36m(_train_tune pid=9720)\u001b[0m ---------------------------------------------------------------------\n",
      "\u001b[36m(_train_tune pid=9720)\u001b[0m 1.2 M     Trainable params\n",
      "\u001b[36m(_train_tune pid=9720)\u001b[0m 0         Non-trainable params\n",
      "\u001b[36m(_train_tune pid=9720)\u001b[0m 1.2 M     Total params\n",
      "\u001b[36m(_train_tune pid=9720)\u001b[0m 4.807     Total estimated model params size (MB)\n"
     ]
    },
    {
     "name": "stdout",
     "output_type": "stream",
     "text": [
      "Sanity Checking DataLoader 0:   0%|          | 0/1 [00:00<?, ?it/s]\n",
      "Epoch 0:   0%|          | 0/1 [00:00<?, ?it/s]                             \n",
      "Epoch 1:   0%|          | 0/1 [00:00<?, ?it/s, v_num=0, train_loss_step=2.950, train_loss_epoch=2.950]        \n",
      "Epoch 2:   0%|          | 0/1 [00:00<?, ?it/s, v_num=0, train_loss_step=1.980, train_loss_epoch=1.980]        \n",
      "Epoch 3:   0%|          | 0/1 [00:00<?, ?it/s, v_num=0, train_loss_step=1.430, train_loss_epoch=1.430]        \n",
      "Epoch 4:   0%|          | 0/1 [00:00<?, ?it/s, v_num=0, train_loss_step=1.400, train_loss_epoch=1.400]        \n",
      "Epoch 5:   0%|          | 0/1 [00:00<?, ?it/s, v_num=0, train_loss_step=1.500, train_loss_epoch=1.500]        \n",
      "Epoch 6:   0%|          | 0/1 [00:00<?, ?it/s, v_num=0, train_loss_step=1.560, train_loss_epoch=1.560]        \n",
      "Epoch 7:   0%|          | 0/1 [00:00<?, ?it/s, v_num=0, train_loss_step=1.490, train_loss_epoch=1.490]        \n",
      "Epoch 8:   0%|          | 0/1 [00:00<?, ?it/s, v_num=0, train_loss_step=1.430, train_loss_epoch=1.430]        \n",
      "Epoch 9:   0%|          | 0/1 [00:00<?, ?it/s, v_num=0, train_loss_step=1.380, train_loss_epoch=1.380]        \n",
      "Epoch 10:   0%|          | 0/1 [00:00<?, ?it/s, v_num=0, train_loss_step=1.360, train_loss_epoch=1.360]       \n",
      "Epoch 11:   0%|          | 0/1 [00:00<?, ?it/s, v_num=0, train_loss_step=1.350, train_loss_epoch=1.350]        \n",
      "Epoch 12:   0%|          | 0/1 [00:00<?, ?it/s, v_num=0, train_loss_step=1.370, train_loss_epoch=1.370]        \n",
      "Epoch 13:   0%|          | 0/1 [00:00<?, ?it/s, v_num=0, train_loss_step=1.380, train_loss_epoch=1.380]        \n",
      "Epoch 14:   0%|          | 0/1 [00:00<?, ?it/s, v_num=0, train_loss_step=1.370, train_loss_epoch=1.370]        \n",
      "Epoch 15:   0%|          | 0/1 [00:00<?, ?it/s, v_num=0, train_loss_step=1.350, train_loss_epoch=1.350]        \n",
      "Epoch 16:   0%|          | 0/1 [00:00<?, ?it/s, v_num=0, train_loss_step=1.340, train_loss_epoch=1.340]        \n",
      "Epoch 17:   0%|          | 0/1 [00:00<?, ?it/s, v_num=0, train_loss_step=1.330, train_loss_epoch=1.330]        \n",
      "Epoch 18:   0%|          | 0/1 [00:00<?, ?it/s, v_num=0, train_loss_step=1.330, train_loss_epoch=1.330]        \n",
      "Epoch 19:   0%|          | 0/1 [00:00<?, ?it/s, v_num=0, train_loss_step=1.320, train_loss_epoch=1.320]        \n",
      "Epoch 20:   0%|          | 0/1 [00:00<?, ?it/s, v_num=0, train_loss_step=1.320, train_loss_epoch=1.320]        \n",
      "Epoch 21:   0%|          | 0/1 [00:00<?, ?it/s, v_num=0, train_loss_step=1.330, train_loss_epoch=1.330]        \n",
      "Epoch 22:   0%|          | 0/1 [00:00<?, ?it/s, v_num=0, train_loss_step=1.320, train_loss_epoch=1.320]        \n",
      "Epoch 23:   0%|          | 0/1 [00:00<?, ?it/s, v_num=0, train_loss_step=1.330, train_loss_epoch=1.330]        \n",
      "Epoch 24:   0%|          | 0/1 [00:00<?, ?it/s, v_num=0, train_loss_step=1.320, train_loss_epoch=1.320]        \n",
      "Epoch 25:   0%|          | 0/1 [00:00<?, ?it/s, v_num=0, train_loss_step=1.300, train_loss_epoch=1.300]        \n",
      "Epoch 26:   0%|          | 0/1 [00:00<?, ?it/s, v_num=0, train_loss_step=1.300, train_loss_epoch=1.300]        \n",
      "Epoch 27:   0%|          | 0/1 [00:00<?, ?it/s, v_num=0, train_loss_step=1.290, train_loss_epoch=1.290]        \n",
      "Epoch 28:   0%|          | 0/1 [00:00<?, ?it/s, v_num=0, train_loss_step=1.290, train_loss_epoch=1.290]        \n",
      "Epoch 29:   0%|          | 0/1 [00:00<?, ?it/s, v_num=0, train_loss_step=1.300, train_loss_epoch=1.300]        \n",
      "Epoch 30:   0%|          | 0/1 [00:00<?, ?it/s, v_num=0, train_loss_step=1.290, train_loss_epoch=1.290]        \n",
      "Epoch 31:   0%|          | 0/1 [00:00<?, ?it/s, v_num=0, train_loss_step=1.290, train_loss_epoch=1.290]        \n",
      "Epoch 32:   0%|          | 0/1 [00:00<?, ?it/s, v_num=0, train_loss_step=1.280, train_loss_epoch=1.280]        \n",
      "Epoch 33:   0%|          | 0/1 [00:00<?, ?it/s, v_num=0, train_loss_step=1.280, train_loss_epoch=1.280]        \n",
      "Epoch 34:   0%|          | 0/1 [00:00<?, ?it/s, v_num=0, train_loss_step=1.280, train_loss_epoch=1.280]        \n",
      "Epoch 35:   0%|          | 0/1 [00:00<?, ?it/s, v_num=0, train_loss_step=1.270, train_loss_epoch=1.270]        \n",
      "Epoch 36:   0%|          | 0/1 [00:00<?, ?it/s, v_num=0, train_loss_step=1.280, train_loss_epoch=1.280]        \n",
      "Epoch 37:   0%|          | 0/1 [00:00<?, ?it/s, v_num=0, train_loss_step=1.290, train_loss_epoch=1.290]        \n",
      "Epoch 38:   0%|          | 0/1 [00:00<?, ?it/s, v_num=0, train_loss_step=1.280, train_loss_epoch=1.280]        \n",
      "Epoch 39:   0%|          | 0/1 [00:00<?, ?it/s, v_num=0, train_loss_step=1.260, train_loss_epoch=1.260]        \n",
      "Epoch 40:   0%|          | 0/1 [00:00<?, ?it/s, v_num=0, train_loss_step=1.260, train_loss_epoch=1.260]        \n",
      "Epoch 41:   0%|          | 0/1 [00:00<?, ?it/s, v_num=0, train_loss_step=1.250, train_loss_epoch=1.250]        \n",
      "Epoch 42:   0%|          | 0/1 [00:00<?, ?it/s, v_num=0, train_loss_step=1.240, train_loss_epoch=1.240]        \n",
      "Epoch 43:   0%|          | 0/1 [00:00<?, ?it/s, v_num=0, train_loss_step=1.250, train_loss_epoch=1.250]        \n",
      "Epoch 44:   0%|          | 0/1 [00:00<?, ?it/s, v_num=0, train_loss_step=1.240, train_loss_epoch=1.240]        \n",
      "Epoch 45:   0%|          | 0/1 [00:00<?, ?it/s, v_num=0, train_loss_step=1.240, train_loss_epoch=1.240]        \n",
      "Epoch 46:   0%|          | 0/1 [00:00<?, ?it/s, v_num=0, train_loss_step=1.230, train_loss_epoch=1.230]        \n",
      "Epoch 47:   0%|          | 0/1 [00:00<?, ?it/s, v_num=0, train_loss_step=1.220, train_loss_epoch=1.220]        \n",
      "Epoch 48:   0%|          | 0/1 [00:00<?, ?it/s, v_num=0, train_loss_step=1.220, train_loss_epoch=1.220]        \n",
      "Epoch 49:   0%|          | 0/1 [00:00<?, ?it/s, v_num=0, train_loss_step=1.220, train_loss_epoch=1.220]        \n"
     ]
    },
    {
     "name": "stderr",
     "output_type": "stream",
     "text": [
      "2024-07-06 14:55:14,525\tINFO tune.py:1007 -- Wrote the latest version of all result files and experiment state to 'C:/Users/91976/ray_results/_train_tune_2024-07-06_14-52-36' in 0.0141s.\n",
      "\u001b[36m(_train_tune pid=9720)\u001b[0m `Trainer.fit` stopped: `max_steps=50` reached.\n",
      "Seed set to 1\n",
      "c:\\Users\\91976\\Desktop\\Forecast_llm_comparison\\.env\\lib\\site-packages\\torch\\nn\\init.py:452: UserWarning: Initializing zero-element tensors is a no-op\n",
      "  warnings.warn(\"Initializing zero-element tensors is a no-op\")\n",
      "c:\\Users\\91976\\Desktop\\Forecast_llm_comparison\\.env\\lib\\site-packages\\neuralforecast\\common\\_base_model.py:208: UserWarning: val_check_steps is greater than max_steps, setting val_check_steps to max_steps.\n",
      "  warnings.warn(\n",
      "GPU available: False, used: False\n",
      "TPU available: False, using: 0 TPU cores\n",
      "IPU available: False, using: 0 IPUs\n",
      "HPU available: False, using: 0 HPUs\n",
      "\n",
      "  | Name                    | Type                     | Params\n",
      "---------------------------------------------------------------------\n",
      "0 | loss                    | MAE                      | 0     \n",
      "1 | padder_train            | ConstantPad1d            | 0     \n",
      "2 | scaler                  | TemporalNorm             | 0     \n",
      "3 | embedding               | TFTEmbedding             | 512   \n",
      "4 | static_encoder          | StaticCovariateEncoder   | 331 K \n",
      "5 | temporal_encoder        | TemporalCovariateEncoder | 613 K \n",
      "6 | temporal_fusion_decoder | TemporalFusionDecoder    | 256 K \n",
      "7 | output_adapter          | Linear                   | 129   \n",
      "---------------------------------------------------------------------\n",
      "1.2 M     Trainable params\n",
      "0         Non-trainable params\n",
      "1.2 M     Total params\n",
      "4.807     Total estimated model params size (MB)\n"
     ]
    },
    {
     "name": "stdout",
     "output_type": "stream",
     "text": [
      "Epoch 49: 100%|██████████| 1/1 [00:02<00:00,  0.34it/s, v_num=0, train_loss_step=1.190, train_loss_epoch=1.220]\n",
      "Validation: |          | 0/? [00:00<?, ?it/s]\u001b[A\n",
      "Validation:   0%|          | 0/1 [00:00<?, ?it/s]\u001b[A\n",
      "Validation DataLoader 0:   0%|          | 0/1 [00:00<?, ?it/s]\u001b[A\n",
      "Validation DataLoader 0: 100%|██████████| 1/1 [00:00<00:00, 59.50it/s]\u001b[A\n",
      "Epoch 49: 100%|██████████| 1/1 [00:02<00:00,  0.34it/s, v_num=0, train_loss_step=1.190, train_loss_epoch=1.190, valid_loss=57.20]\n"
     ]
    },
    {
     "data": {
      "application/vnd.jupyter.widget-view+json": {
       "model_id": "01de1dc58cf649e19cf5afab2781cb14",
       "version_major": 2,
       "version_minor": 0
      },
      "text/plain": [
       "Sanity Checking: |          | 0/? [00:00<?, ?it/s]"
      ]
     },
     "metadata": {},
     "output_type": "display_data"
    },
    {
     "data": {
      "application/vnd.jupyter.widget-view+json": {
       "model_id": "99d2cfc18a654dfbb6b9aca6a76d8550",
       "version_major": 2,
       "version_minor": 0
      },
      "text/plain": [
       "Training: |          | 0/? [00:00<?, ?it/s]"
      ]
     },
     "metadata": {},
     "output_type": "display_data"
    },
    {
     "data": {
      "application/vnd.jupyter.widget-view+json": {
       "model_id": "0d228e2d952c4f87a4a169ab79211abd",
       "version_major": 2,
       "version_minor": 0
      },
      "text/plain": [
       "Validation: |          | 0/? [00:00<?, ?it/s]"
      ]
     },
     "metadata": {},
     "output_type": "display_data"
    },
    {
     "name": "stderr",
     "output_type": "stream",
     "text": [
      "`Trainer.fit` stopped: `max_steps=50` reached.\n",
      "c:\\Users\\91976\\Desktop\\Forecast_llm_comparison\\.env\\lib\\site-packages\\utilsforecast\\processing.py:374: FutureWarning: 'M' is deprecated and will be removed in a future version, please use 'ME' instead.\n",
      "  freq = pd.tseries.frequencies.to_offset(freq)\n",
      "c:\\Users\\91976\\Desktop\\Forecast_llm_comparison\\.env\\lib\\site-packages\\utilsforecast\\processing.py:428: FutureWarning: 'M' is deprecated and will be removed in a future version, please use 'ME' instead.\n",
      "  freq = pd.tseries.frequencies.to_offset(freq)\n",
      "GPU available: False, used: False\n",
      "TPU available: False, using: 0 TPU cores\n",
      "IPU available: False, using: 0 IPUs\n",
      "HPU available: False, using: 0 HPUs\n"
     ]
    },
    {
     "data": {
      "application/vnd.jupyter.widget-view+json": {
       "model_id": "c7c73d20a5354ab4bb4d88193624fbe4",
       "version_major": 2,
       "version_minor": 0
      },
      "text/plain": [
       "Predicting: |          | 0/? [00:00<?, ?it/s]"
      ]
     },
     "metadata": {},
     "output_type": "display_data"
    },
    {
     "name": "stderr",
     "output_type": "stream",
     "text": [
      "GPU available: False, used: False\n",
      "TPU available: False, using: 0 TPU cores\n",
      "IPU available: False, using: 0 IPUs\n",
      "HPU available: False, using: 0 HPUs\n"
     ]
    },
    {
     "data": {
      "application/vnd.jupyter.widget-view+json": {
       "model_id": "01c453d032594ced849faa7a7437ec19",
       "version_major": 2,
       "version_minor": 0
      },
      "text/plain": [
       "Predicting: |          | 0/? [00:00<?, ?it/s]"
      ]
     },
     "metadata": {},
     "output_type": "display_data"
    },
    {
     "name": "stderr",
     "output_type": "stream",
     "text": [
      "GPU available: False, used: False\n",
      "TPU available: False, using: 0 TPU cores\n",
      "IPU available: False, using: 0 IPUs\n",
      "HPU available: False, using: 0 HPUs\n"
     ]
    },
    {
     "data": {
      "application/vnd.jupyter.widget-view+json": {
       "model_id": "7a9cce9236f148ae8566f58c74c23351",
       "version_major": 2,
       "version_minor": 0
      },
      "text/plain": [
       "Predicting: |          | 0/? [00:00<?, ?it/s]"
      ]
     },
     "metadata": {},
     "output_type": "display_data"
    },
    {
     "name": "stderr",
     "output_type": "stream",
     "text": [
      "GPU available: False, used: False\n",
      "TPU available: False, using: 0 TPU cores\n",
      "IPU available: False, using: 0 IPUs\n",
      "HPU available: False, using: 0 HPUs\n"
     ]
    },
    {
     "data": {
      "application/vnd.jupyter.widget-view+json": {
       "model_id": "6ec3cf6953024132aff25e93ea3d4812",
       "version_major": 2,
       "version_minor": 0
      },
      "text/plain": [
       "Predicting: |          | 0/? [00:00<?, ?it/s]"
      ]
     },
     "metadata": {},
     "output_type": "display_data"
    },
    {
     "name": "stderr",
     "output_type": "stream",
     "text": [
      "GPU available: False, used: False\n",
      "TPU available: False, using: 0 TPU cores\n",
      "IPU available: False, using: 0 IPUs\n",
      "HPU available: False, using: 0 HPUs\n"
     ]
    },
    {
     "data": {
      "application/vnd.jupyter.widget-view+json": {
       "model_id": "704ecec823a3432bad646b2f49269c60",
       "version_major": 2,
       "version_minor": 0
      },
      "text/plain": [
       "Predicting: |          | 0/? [00:00<?, ?it/s]"
      ]
     },
     "metadata": {},
     "output_type": "display_data"
    },
    {
     "name": "stderr",
     "output_type": "stream",
     "text": [
      "GPU available: False, used: False\n",
      "TPU available: False, using: 0 TPU cores\n",
      "IPU available: False, using: 0 IPUs\n",
      "HPU available: False, using: 0 HPUs\n"
     ]
    },
    {
     "data": {
      "application/vnd.jupyter.widget-view+json": {
       "model_id": "de82f80252ce4b59a8524b398256c787",
       "version_major": 2,
       "version_minor": 0
      },
      "text/plain": [
       "Predicting: |          | 0/? [00:00<?, ?it/s]"
      ]
     },
     "metadata": {},
     "output_type": "display_data"
    },
    {
     "name": "stderr",
     "output_type": "stream",
     "text": [
      "c:\\Users\\91976\\Desktop\\Forecast_llm_comparison\\.env\\lib\\site-packages\\neuralforecast\\core.py:196: FutureWarning: In a future version the predictions will have the id as a column. You can set the `NIXTLA_ID_AS_COL` environment variable to adopt the new behavior and to suppress this warning.\n",
      "  warnings.warn(\n"
     ]
    }
   ],
   "source": [
    "\n",
    "# NeuralForecast with neural models\n",
    "nf = NeuralForecast(models=neural_models, freq='M')\n",
    "\n",
    "start_time = time.time()\n",
    "nf.fit(df=train)\n",
    "forecasts_df_neural = nf.predict().reset_index()\n",
    "train_time = time.time() - start_time\n",
    "\n",
    "error_neural = calculate_errors(test, forecasts_df_neural, train)\n",
    "error_neural['Train_Time'] = train_time\n",
    "error_dfs.append(error_neural)\n"
   ]
  },
  {
   "cell_type": "code",
   "execution_count": 43,
   "metadata": {},
   "outputs": [
    {
     "name": "stderr",
     "output_type": "stream",
     "text": [
      "INFO:nixtla.nixtla_client:Validating inputs...\n",
      "INFO:nixtla.nixtla_client:Preprocessing dataframes...\n",
      "INFO:nixtla.nixtla_client:Inferred freq: ME\n",
      "INFO:nixtla.nixtla_client:Restricting input...\n",
      "INFO:nixtla.nixtla_client:Calling Forecast Endpoint...\n"
     ]
    }
   ],
   "source": [
    "\n",
    "# TimeGPT\n",
    "from nixtla import NixtlaClient\n",
    "nixtla_client = NixtlaClient(api_key='nixtla-tok-BWWtvgUP9FLtzerA90xyzXPvRUoZvA0OYYp5cuSI7NZUyApQjlINlF8dAyYXqDyxWlTlCOg7jXHWJV4o')\n",
    "\n",
    "start_time = time.time()\n",
    "forecasts_df_timegpt = nixtla_client.forecast(df=train, h=test_size, freq='M', time_col='ds', target_col='y')\n",
    "train_time = time.time() - start_time\n",
    "\n",
    "error_timegpt = calculate_errors(test, forecasts_df_timegpt, train)\n",
    "error_timegpt['Train_Time'] = train_time\n",
    "error_dfs.append(error_timegpt)\n"
   ]
  },
  {
   "cell_type": "code",
   "execution_count": 44,
   "metadata": {},
   "outputs": [
    {
     "name": "stdout",
     "output_type": "stream",
     "text": [
      "                   Model       Error\n",
      "0          AutoCES_RMSSE    0.468213\n",
      "1          TimeGPT_RMSSE    0.468601\n",
      "2         LightGBM_RMSSE    0.483276\n",
      "3          XgBoost_RMSSE    0.512230\n",
      "4     RandomForest_RMSSE    0.525468\n",
      "..                   ...         ...\n",
      "69        AutoARIMA_RMSE   84.498827\n",
      "70              SES_RMSE   91.367998\n",
      "71            Naive_RMSE  102.976535\n",
      "72  HistoricAverage_RMSE  226.265665\n",
      "73            Train_Time  400.459923\n",
      "\n",
      "[74 rows x 2 columns]\n"
     ]
    },
    {
     "name": "stderr",
     "output_type": "stream",
     "text": [
      "c:\\Users\\91976\\Desktop\\Forecast_llm_comparison\\.env\\lib\\site-packages\\statsforecast\\core.py:1386: FutureWarning: Passing the ids as the index is deprecated. Please provide them as a column instead.\n",
      "  warnings.warn(\n",
      "c:\\Users\\91976\\Desktop\\Forecast_llm_comparison\\.env\\lib\\site-packages\\statsforecast\\core.py:1386: FutureWarning:\n",
      "\n",
      "Passing the ids as the index is deprecated. Please provide them as a column instead.\n",
      "\n"
     ]
    },
    {
     "data": {
      "image/png": "[encoded data removed]",
      "text/plain": [
       "<Figure size 2400x350 with 1 Axes>"
      ]
     },
     "execution_count": 44,
     "metadata": {},
     "output_type": "execute_result"
    }
   ],
   "source": [
    "\n",
    "# %%\n",
    "# Combine and sort errors\n",
    "combined_df = pd.concat(error_dfs, ignore_index=True)\n",
    "sorted_df = combined_df.melt(var_name='Model', value_name='Error').dropna().sort_values(by='Error')\n",
    "sorted_df.reset_index(drop=True, inplace=True)\n",
    "print(sorted_df)\n",
    "\n",
    "# %%\n",
    "# Plot results\n",
    "StatsForecast.plot(df, forecasts_df, engine='plotly')\n",
    "StatsForecast.plot(df, forecasts_df_auto, engine='plotly')\n",
    "StatsForecast.plot(df, forecasts_df_tree.reset_index())\n",
    "StatsForecast.plot(df, forecasts_df_neural, engine='plotly')\n",
    "StatsForecast.plot(df, forecasts_df_timegpt)"
   ]
  },
  {
   "cell_type": "code",
   "execution_count": 45,
   "metadata": {},
   "outputs": [
    {
     "data": {
      "text/html": [
       "<div>\n",
       "<style scoped>\n",
       "    .dataframe tbody tr th:only-of-type {\n",
       "        vertical-align: middle;\n",
       "    }\n",
       "\n",
       "    .dataframe tbody tr th {\n",
       "        vertical-align: top;\n",
       "    }\n",
       "\n",
       "    .dataframe thead th {\n",
       "        text-align: right;\n",
       "    }\n",
       "</style>\n",
       "<table border=\"1\" class=\"dataframe\">\n",
       "  <thead>\n",
       "    <tr style=\"text-align: right;\">\n",
       "      <th></th>\n",
       "      <th>Model</th>\n",
       "      <th>Error</th>\n",
       "    </tr>\n",
       "  </thead>\n",
       "  <tbody>\n",
       "    <tr>\n",
       "      <th>0</th>\n",
       "      <td>AutoCES_RMSSE</td>\n",
       "      <td>0.468213</td>\n",
       "    </tr>\n",
       "    <tr>\n",
       "      <th>1</th>\n",
       "      <td>TimeGPT_RMSSE</td>\n",
       "      <td>0.468601</td>\n",
       "    </tr>\n",
       "    <tr>\n",
       "      <th>2</th>\n",
       "      <td>LightGBM_RMSSE</td>\n",
       "      <td>0.483276</td>\n",
       "    </tr>\n",
       "    <tr>\n",
       "      <th>3</th>\n",
       "      <td>XgBoost_RMSSE</td>\n",
       "      <td>0.512230</td>\n",
       "    </tr>\n",
       "    <tr>\n",
       "      <th>4</th>\n",
       "      <td>RandomForest_RMSSE</td>\n",
       "      <td>0.525468</td>\n",
       "    </tr>\n",
       "    <tr>\n",
       "      <th>...</th>\n",
       "      <td>...</td>\n",
       "      <td>...</td>\n",
       "    </tr>\n",
       "    <tr>\n",
       "      <th>69</th>\n",
       "      <td>AutoARIMA_RMSE</td>\n",
       "      <td>84.498827</td>\n",
       "    </tr>\n",
       "    <tr>\n",
       "      <th>70</th>\n",
       "      <td>SES_RMSE</td>\n",
       "      <td>91.367998</td>\n",
       "    </tr>\n",
       "    <tr>\n",
       "      <th>71</th>\n",
       "      <td>Naive_RMSE</td>\n",
       "      <td>102.976535</td>\n",
       "    </tr>\n",
       "    <tr>\n",
       "      <th>72</th>\n",
       "      <td>HistoricAverage_RMSE</td>\n",
       "      <td>226.265665</td>\n",
       "    </tr>\n",
       "    <tr>\n",
       "      <th>73</th>\n",
       "      <td>Train_Time</td>\n",
       "      <td>400.459923</td>\n",
       "    </tr>\n",
       "  </tbody>\n",
       "</table>\n",
       "<p>74 rows × 2 columns</p>\n",
       "</div>"
      ],
      "text/plain": [
       "                   Model       Error\n",
       "0          AutoCES_RMSSE    0.468213\n",
       "1          TimeGPT_RMSSE    0.468601\n",
       "2         LightGBM_RMSSE    0.483276\n",
       "3          XgBoost_RMSSE    0.512230\n",
       "4     RandomForest_RMSSE    0.525468\n",
       "..                   ...         ...\n",
       "69        AutoARIMA_RMSE   84.498827\n",
       "70              SES_RMSE   91.367998\n",
       "71            Naive_RMSE  102.976535\n",
       "72  HistoricAverage_RMSE  226.265665\n",
       "73            Train_Time  400.459923\n",
       "\n",
       "[74 rows x 2 columns]"
      ]
     },
     "execution_count": 45,
     "metadata": {},
     "output_type": "execute_result"
    }
   ],
   "source": [
    "sorted_df"
   ]
  },
  {
   "cell_type": "code",
   "execution_count": null,
   "metadata": {},
   "outputs": [],
   "source": []
  }
 ],
 "metadata": {
  "kernelspec": {
   "display_name": ".env",
   "language": "python",
   "name": "python3"
  },
  "language_info": {
   "codemirror_mode": {
    "name": "ipython",
    "version": 3
   },
   "file_extension": ".py",
   "mimetype": "text/x-python",
   "name": "python",
   "nbconvert_exporter": "python",
   "pygments_lexer": "ipython3",
   "version": "3.9.5"
  }
 },
 "nbformat": 4,
 "nbformat_minor": 2
}
