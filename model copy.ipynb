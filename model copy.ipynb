{
 "cells": [
  {
   "cell_type": "code",
   "execution_count": 18,
   "metadata": {},
   "outputs": [],
   "source": [
    "import pandas as pd\n",
    "import numpy as np\n",
    "\n",
    "\n",
    "from neuralforecast import NeuralForecast\n",
    "from neuralforecast.models import (\n",
    "    NBEATS,\n",
    "    NHITS,\n",
    "    TFT)\n",
    "\n",
    "from statsforecast.core import StatsForecast\n",
    "from neuralforecast.auto import AutoMLP, AutoDeepAR, AutoNBEATS, AutoNHITS, AutoTFT , AutoDeepNPTS\n",
    "from statsforecast.models import (\n",
    "    Naive,\n",
    "    SeasonalNaive,\n",
    "    ARIMA,\n",
    "    SimpleExponentialSmoothing,\n",
    "    ETS,\n",
    "    HistoricAverage,\n",
    "    WindowAverage,\n",
    "    AutoARIMA,\n",
    "    AutoETS,\n",
    "    AutoCES,\n",
    "    AutoTheta\n",
    ")\n",
    "\n",
    "# Naive\n",
    "# Naive season\n",
    "# Seasonal Arima (0,1 1)( 0,1,1)\n",
    "\n",
    "from mlforecast import MLForecast\n",
    "from xgboost import XGBRegressor\n",
    "from catboost import CatBoostRegressor\n",
    "from sklearn.ensemble import RandomForestRegressor\n",
    "\n",
    "import lightgbm as lgb\n",
    "from mlforecast.target_transforms import Differences\n",
    "from mlforecast.lag_transforms import ExpandingMean, RollingMean\n",
    "from numba import njit\n",
    "from window_ops.rolling import rolling_mean\n",
    "\n",
    "\n",
    "import plotly.graph_objects as go\n"
   ]
  },
  {
   "cell_type": "code",
   "execution_count": 19,
   "metadata": {},
   "outputs": [],
   "source": [
    "def evaluate_forecast(y_true, y_pred):\n",
    "    return np.sqrt(np.mean((y_true.values - y_pred.values) ** 2))\n",
    "\n",
    "def smape(y_true, y_pred):\n",
    "    return 100 * np.mean(np.abs(y_pred - y_true) / (np.abs(y_true) + np.abs(y_pred)) / 2)\n",
    "\n",
    "def rmsse(y_true, y_pred, train):\n",
    "    naive_forecast = np.roll(train, 1)\n",
    "    naive_forecast[0] = train[0]\n",
    "    scale = np.mean((train - naive_forecast) ** 2)\n",
    "    return np.sqrt(np.mean((y_true - y_pred) ** 2) / scale)\n",
    "\n",
    "def calculate_errors(test, forecasts, train):\n",
    "\n",
    "    df = pd.DataFrame()\n",
    "    for col in forecasts.columns:\n",
    "        error_dict = {}\n",
    "        \n",
    "        if col in ['ds', 'unique_id']:\n",
    "            continue\n",
    "        else:\n",
    "            y_true = test['y'].values\n",
    "            y_pred = forecasts[col].values\n",
    "            error_dict.update({\n",
    "                f'RMSE': evaluate_forecast(test['y'], forecasts[col]),\n",
    "                f'SMAPE': smape(y_true, y_pred),\n",
    "                f'RMSSE': rmsse(y_true, y_pred, train['y'].values)\n",
    "            })\n",
    "        df = pd.concat([pd.DataFrame(error_dict, index=[col]),df])\n",
    "    return df"
   ]
  },
  {
   "cell_type": "code",
   "execution_count": 20,
   "metadata": {},
   "outputs": [],
   "source": [
    "\n",
    "from statsforecast.utils import AirPassengersDF\n",
    "\n",
    "# Load the AirPassengers dataset\n",
    "df = AirPassengersDF\n",
    "\n",
    "forecast_horizon = [24, 3,6,12]\n",
    "\n",
    "# Train-test split\n",
    "test_size_total = 24\n",
    "\n",
    "train_size_total = len(df) - test_size_total\n",
    "train_total, test_total = df[:train_size_total], df[train_size_total:]\n",
    "\n",
    "\n",
    "df.to_csv('Air_passengers.csv')"
   ]
  },
  {
   "cell_type": "code",
   "execution_count": 21,
   "metadata": {},
   "outputs": [
    {
     "name": "stderr",
     "output_type": "stream",
     "text": [
      "c:\\Users\\91976\\Desktop\\Forecast_llm_comparison\\.env\\lib\\site-packages\\statsforecast\\models.py:880: FutureWarning: `ETS` will be deprecated in future versions of `StatsForecast`. Please use `AutoETS` instead.\n",
      "  ETS._warn()\n",
      "c:\\Users\\91976\\Desktop\\Forecast_llm_comparison\\.env\\lib\\site-packages\\statsforecast\\core.py:485: FutureWarning: In a future version the predictions will have the id as a column. You can set the `NIXTLA_ID_AS_COL` environment variable to adopt the new behavior and to suppress this warning.\n",
      "  warnings.warn(\n",
      "c:\\Users\\91976\\Desktop\\Forecast_llm_comparison\\.env\\lib\\site-packages\\statsforecast\\core.py:485: FutureWarning: In a future version the predictions will have the id as a column. You can set the `NIXTLA_ID_AS_COL` environment variable to adopt the new behavior and to suppress this warning.\n",
      "  warnings.warn(\n",
      "c:\\Users\\91976\\Desktop\\Forecast_llm_comparison\\.env\\lib\\site-packages\\statsforecast\\core.py:485: FutureWarning: In a future version the predictions will have the id as a column. You can set the `NIXTLA_ID_AS_COL` environment variable to adopt the new behavior and to suppress this warning.\n",
      "  warnings.warn(\n",
      "c:\\Users\\91976\\Desktop\\Forecast_llm_comparison\\.env\\lib\\site-packages\\statsforecast\\core.py:485: FutureWarning: In a future version the predictions will have the id as a column. You can set the `NIXTLA_ID_AS_COL` environment variable to adopt the new behavior and to suppress this warning.\n",
      "  warnings.warn(\n",
      "c:\\Users\\91976\\Desktop\\Forecast_llm_comparison\\.env\\lib\\site-packages\\statsforecast\\core.py:485: FutureWarning: In a future version the predictions will have the id as a column. You can set the `NIXTLA_ID_AS_COL` environment variable to adopt the new behavior and to suppress this warning.\n",
      "  warnings.warn(\n",
      "c:\\Users\\91976\\Desktop\\Forecast_llm_comparison\\.env\\lib\\site-packages\\statsforecast\\core.py:485: FutureWarning: In a future version the predictions will have the id as a column. You can set the `NIXTLA_ID_AS_COL` environment variable to adopt the new behavior and to suppress this warning.\n",
      "  warnings.warn(\n",
      "c:\\Users\\91976\\Desktop\\Forecast_llm_comparison\\.env\\lib\\site-packages\\statsforecast\\core.py:485: FutureWarning: In a future version the predictions will have the id as a column. You can set the `NIXTLA_ID_AS_COL` environment variable to adopt the new behavior and to suppress this warning.\n",
      "  warnings.warn(\n",
      "c:\\Users\\91976\\Desktop\\Forecast_llm_comparison\\.env\\lib\\site-packages\\statsforecast\\core.py:485: FutureWarning: In a future version the predictions will have the id as a column. You can set the `NIXTLA_ID_AS_COL` environment variable to adopt the new behavior and to suppress this warning.\n",
      "  warnings.warn(\n",
      "c:\\Users\\91976\\Desktop\\Forecast_llm_comparison\\.env\\lib\\site-packages\\statsforecast\\core.py:485: FutureWarning: In a future version the predictions will have the id as a column. You can set the `NIXTLA_ID_AS_COL` environment variable to adopt the new behavior and to suppress this warning.\n",
      "  warnings.warn(\n",
      "c:\\Users\\91976\\Desktop\\Forecast_llm_comparison\\.env\\lib\\site-packages\\statsforecast\\core.py:485: FutureWarning: In a future version the predictions will have the id as a column. You can set the `NIXTLA_ID_AS_COL` environment variable to adopt the new behavior and to suppress this warning.\n",
      "  warnings.warn(\n",
      "c:\\Users\\91976\\Desktop\\Forecast_llm_comparison\\.env\\lib\\site-packages\\statsforecast\\core.py:485: FutureWarning: In a future version the predictions will have the id as a column. You can set the `NIXTLA_ID_AS_COL` environment variable to adopt the new behavior and to suppress this warning.\n",
      "  warnings.warn(\n",
      "c:\\Users\\91976\\Desktop\\Forecast_llm_comparison\\.env\\lib\\site-packages\\statsforecast\\core.py:485: FutureWarning: In a future version the predictions will have the id as a column. You can set the `NIXTLA_ID_AS_COL` environment variable to adopt the new behavior and to suppress this warning.\n",
      "  warnings.warn(\n",
      "c:\\Users\\91976\\Desktop\\Forecast_llm_comparison\\.env\\lib\\site-packages\\statsforecast\\core.py:485: FutureWarning: In a future version the predictions will have the id as a column. You can set the `NIXTLA_ID_AS_COL` environment variable to adopt the new behavior and to suppress this warning.\n",
      "  warnings.warn(\n",
      "c:\\Users\\91976\\Desktop\\Forecast_llm_comparison\\.env\\lib\\site-packages\\statsforecast\\core.py:485: FutureWarning: In a future version the predictions will have the id as a column. You can set the `NIXTLA_ID_AS_COL` environment variable to adopt the new behavior and to suppress this warning.\n",
      "  warnings.warn(\n",
      "c:\\Users\\91976\\Desktop\\Forecast_llm_comparison\\.env\\lib\\site-packages\\statsforecast\\core.py:485: FutureWarning: In a future version the predictions will have the id as a column. You can set the `NIXTLA_ID_AS_COL` environment variable to adopt the new behavior and to suppress this warning.\n",
      "  warnings.warn(\n",
      "c:\\Users\\91976\\Desktop\\Forecast_llm_comparison\\.env\\lib\\site-packages\\statsforecast\\core.py:485: FutureWarning: In a future version the predictions will have the id as a column. You can set the `NIXTLA_ID_AS_COL` environment variable to adopt the new behavior and to suppress this warning.\n",
      "  warnings.warn(\n",
      "c:\\Users\\91976\\Desktop\\Forecast_llm_comparison\\.env\\lib\\site-packages\\statsforecast\\core.py:485: FutureWarning: In a future version the predictions will have the id as a column. You can set the `NIXTLA_ID_AS_COL` environment variable to adopt the new behavior and to suppress this warning.\n",
      "  warnings.warn(\n",
      "c:\\Users\\91976\\Desktop\\Forecast_llm_comparison\\.env\\lib\\site-packages\\statsforecast\\core.py:485: FutureWarning: In a future version the predictions will have the id as a column. You can set the `NIXTLA_ID_AS_COL` environment variable to adopt the new behavior and to suppress this warning.\n",
      "  warnings.warn(\n",
      "c:\\Users\\91976\\Desktop\\Forecast_llm_comparison\\.env\\lib\\site-packages\\statsforecast\\core.py:485: FutureWarning: In a future version the predictions will have the id as a column. You can set the `NIXTLA_ID_AS_COL` environment variable to adopt the new behavior and to suppress this warning.\n",
      "  warnings.warn(\n",
      "c:\\Users\\91976\\Desktop\\Forecast_llm_comparison\\.env\\lib\\site-packages\\statsforecast\\core.py:485: FutureWarning: In a future version the predictions will have the id as a column. You can set the `NIXTLA_ID_AS_COL` environment variable to adopt the new behavior and to suppress this warning.\n",
      "  warnings.warn(\n",
      "c:\\Users\\91976\\Desktop\\Forecast_llm_comparison\\.env\\lib\\site-packages\\statsforecast\\core.py:485: FutureWarning: In a future version the predictions will have the id as a column. You can set the `NIXTLA_ID_AS_COL` environment variable to adopt the new behavior and to suppress this warning.\n",
      "  warnings.warn(\n",
      "c:\\Users\\91976\\Desktop\\Forecast_llm_comparison\\.env\\lib\\site-packages\\statsforecast\\core.py:485: FutureWarning: In a future version the predictions will have the id as a column. You can set the `NIXTLA_ID_AS_COL` environment variable to adopt the new behavior and to suppress this warning.\n",
      "  warnings.warn(\n",
      "c:\\Users\\91976\\Desktop\\Forecast_llm_comparison\\.env\\lib\\site-packages\\statsforecast\\core.py:485: FutureWarning: In a future version the predictions will have the id as a column. You can set the `NIXTLA_ID_AS_COL` environment variable to adopt the new behavior and to suppress this warning.\n",
      "  warnings.warn(\n",
      "c:\\Users\\91976\\Desktop\\Forecast_llm_comparison\\.env\\lib\\site-packages\\statsforecast\\core.py:485: FutureWarning: In a future version the predictions will have the id as a column. You can set the `NIXTLA_ID_AS_COL` environment variable to adopt the new behavior and to suppress this warning.\n",
      "  warnings.warn(\n",
      "c:\\Users\\91976\\Desktop\\Forecast_llm_comparison\\.env\\lib\\site-packages\\statsforecast\\core.py:485: FutureWarning: In a future version the predictions will have the id as a column. You can set the `NIXTLA_ID_AS_COL` environment variable to adopt the new behavior and to suppress this warning.\n",
      "  warnings.warn(\n",
      "c:\\Users\\91976\\Desktop\\Forecast_llm_comparison\\.env\\lib\\site-packages\\statsforecast\\core.py:485: FutureWarning: In a future version the predictions will have the id as a column. You can set the `NIXTLA_ID_AS_COL` environment variable to adopt the new behavior and to suppress this warning.\n",
      "  warnings.warn(\n",
      "c:\\Users\\91976\\Desktop\\Forecast_llm_comparison\\.env\\lib\\site-packages\\statsforecast\\core.py:485: FutureWarning: In a future version the predictions will have the id as a column. You can set the `NIXTLA_ID_AS_COL` environment variable to adopt the new behavior and to suppress this warning.\n",
      "  warnings.warn(\n",
      "c:\\Users\\91976\\Desktop\\Forecast_llm_comparison\\.env\\lib\\site-packages\\statsforecast\\core.py:485: FutureWarning: In a future version the predictions will have the id as a column. You can set the `NIXTLA_ID_AS_COL` environment variable to adopt the new behavior and to suppress this warning.\n",
      "  warnings.warn(\n",
      "c:\\Users\\91976\\Desktop\\Forecast_llm_comparison\\.env\\lib\\site-packages\\statsforecast\\core.py:485: FutureWarning: In a future version the predictions will have the id as a column. You can set the `NIXTLA_ID_AS_COL` environment variable to adopt the new behavior and to suppress this warning.\n",
      "  warnings.warn(\n",
      "c:\\Users\\91976\\Desktop\\Forecast_llm_comparison\\.env\\lib\\site-packages\\statsforecast\\core.py:485: FutureWarning: In a future version the predictions will have the id as a column. You can set the `NIXTLA_ID_AS_COL` environment variable to adopt the new behavior and to suppress this warning.\n",
      "  warnings.warn(\n",
      "c:\\Users\\91976\\Desktop\\Forecast_llm_comparison\\.env\\lib\\site-packages\\statsforecast\\core.py:485: FutureWarning: In a future version the predictions will have the id as a column. You can set the `NIXTLA_ID_AS_COL` environment variable to adopt the new behavior and to suppress this warning.\n",
      "  warnings.warn(\n",
      "c:\\Users\\91976\\Desktop\\Forecast_llm_comparison\\.env\\lib\\site-packages\\statsforecast\\core.py:485: FutureWarning: In a future version the predictions will have the id as a column. You can set the `NIXTLA_ID_AS_COL` environment variable to adopt the new behavior and to suppress this warning.\n",
      "  warnings.warn(\n",
      "c:\\Users\\91976\\Desktop\\Forecast_llm_comparison\\.env\\lib\\site-packages\\statsforecast\\core.py:485: FutureWarning: In a future version the predictions will have the id as a column. You can set the `NIXTLA_ID_AS_COL` environment variable to adopt the new behavior and to suppress this warning.\n",
      "  warnings.warn(\n",
      "c:\\Users\\91976\\Desktop\\Forecast_llm_comparison\\.env\\lib\\site-packages\\statsforecast\\core.py:485: FutureWarning: In a future version the predictions will have the id as a column. You can set the `NIXTLA_ID_AS_COL` environment variable to adopt the new behavior and to suppress this warning.\n",
      "  warnings.warn(\n",
      "c:\\Users\\91976\\Desktop\\Forecast_llm_comparison\\.env\\lib\\site-packages\\statsforecast\\core.py:485: FutureWarning: In a future version the predictions will have the id as a column. You can set the `NIXTLA_ID_AS_COL` environment variable to adopt the new behavior and to suppress this warning.\n",
      "  warnings.warn(\n",
      "c:\\Users\\91976\\Desktop\\Forecast_llm_comparison\\.env\\lib\\site-packages\\statsforecast\\core.py:485: FutureWarning: In a future version the predictions will have the id as a column. You can set the `NIXTLA_ID_AS_COL` environment variable to adopt the new behavior and to suppress this warning.\n",
      "  warnings.warn(\n",
      "c:\\Users\\91976\\Desktop\\Forecast_llm_comparison\\.env\\lib\\site-packages\\statsforecast\\core.py:485: FutureWarning: In a future version the predictions will have the id as a column. You can set the `NIXTLA_ID_AS_COL` environment variable to adopt the new behavior and to suppress this warning.\n",
      "  warnings.warn(\n",
      "c:\\Users\\91976\\Desktop\\Forecast_llm_comparison\\.env\\lib\\site-packages\\statsforecast\\core.py:485: FutureWarning: In a future version the predictions will have the id as a column. You can set the `NIXTLA_ID_AS_COL` environment variable to adopt the new behavior and to suppress this warning.\n",
      "  warnings.warn(\n",
      "c:\\Users\\91976\\Desktop\\Forecast_llm_comparison\\.env\\lib\\site-packages\\statsforecast\\core.py:485: FutureWarning: In a future version the predictions will have the id as a column. You can set the `NIXTLA_ID_AS_COL` environment variable to adopt the new behavior and to suppress this warning.\n",
      "  warnings.warn(\n",
      "c:\\Users\\91976\\Desktop\\Forecast_llm_comparison\\.env\\lib\\site-packages\\statsforecast\\core.py:485: FutureWarning: In a future version the predictions will have the id as a column. You can set the `NIXTLA_ID_AS_COL` environment variable to adopt the new behavior and to suppress this warning.\n",
      "  warnings.warn(\n",
      "c:\\Users\\91976\\Desktop\\Forecast_llm_comparison\\.env\\lib\\site-packages\\statsforecast\\core.py:485: FutureWarning: In a future version the predictions will have the id as a column. You can set the `NIXTLA_ID_AS_COL` environment variable to adopt the new behavior and to suppress this warning.\n",
      "  warnings.warn(\n",
      "c:\\Users\\91976\\Desktop\\Forecast_llm_comparison\\.env\\lib\\site-packages\\statsforecast\\core.py:485: FutureWarning: In a future version the predictions will have the id as a column. You can set the `NIXTLA_ID_AS_COL` environment variable to adopt the new behavior and to suppress this warning.\n",
      "  warnings.warn(\n",
      "c:\\Users\\91976\\Desktop\\Forecast_llm_comparison\\.env\\lib\\site-packages\\statsforecast\\core.py:485: FutureWarning: In a future version the predictions will have the id as a column. You can set the `NIXTLA_ID_AS_COL` environment variable to adopt the new behavior and to suppress this warning.\n",
      "  warnings.warn(\n",
      "c:\\Users\\91976\\Desktop\\Forecast_llm_comparison\\.env\\lib\\site-packages\\statsforecast\\core.py:485: FutureWarning: In a future version the predictions will have the id as a column. You can set the `NIXTLA_ID_AS_COL` environment variable to adopt the new behavior and to suppress this warning.\n",
      "  warnings.warn(\n",
      "c:\\Users\\91976\\Desktop\\Forecast_llm_comparison\\.env\\lib\\site-packages\\statsforecast\\core.py:485: FutureWarning: In a future version the predictions will have the id as a column. You can set the `NIXTLA_ID_AS_COL` environment variable to adopt the new behavior and to suppress this warning.\n",
      "  warnings.warn(\n",
      "c:\\Users\\91976\\Desktop\\Forecast_llm_comparison\\.env\\lib\\site-packages\\statsforecast\\core.py:485: FutureWarning: In a future version the predictions will have the id as a column. You can set the `NIXTLA_ID_AS_COL` environment variable to adopt the new behavior and to suppress this warning.\n",
      "  warnings.warn(\n",
      "c:\\Users\\91976\\Desktop\\Forecast_llm_comparison\\.env\\lib\\site-packages\\statsforecast\\core.py:485: FutureWarning: In a future version the predictions will have the id as a column. You can set the `NIXTLA_ID_AS_COL` environment variable to adopt the new behavior and to suppress this warning.\n",
      "  warnings.warn(\n",
      "c:\\Users\\91976\\Desktop\\Forecast_llm_comparison\\.env\\lib\\site-packages\\statsforecast\\core.py:485: FutureWarning: In a future version the predictions will have the id as a column. You can set the `NIXTLA_ID_AS_COL` environment variable to adopt the new behavior and to suppress this warning.\n",
      "  warnings.warn(\n",
      "c:\\Users\\91976\\Desktop\\Forecast_llm_comparison\\.env\\lib\\site-packages\\statsforecast\\core.py:485: FutureWarning: In a future version the predictions will have the id as a column. You can set the `NIXTLA_ID_AS_COL` environment variable to adopt the new behavior and to suppress this warning.\n",
      "  warnings.warn(\n",
      "c:\\Users\\91976\\Desktop\\Forecast_llm_comparison\\.env\\lib\\site-packages\\statsforecast\\core.py:485: FutureWarning: In a future version the predictions will have the id as a column. You can set the `NIXTLA_ID_AS_COL` environment variable to adopt the new behavior and to suppress this warning.\n",
      "  warnings.warn(\n",
      "c:\\Users\\91976\\Desktop\\Forecast_llm_comparison\\.env\\lib\\site-packages\\statsforecast\\core.py:485: FutureWarning: In a future version the predictions will have the id as a column. You can set the `NIXTLA_ID_AS_COL` environment variable to adopt the new behavior and to suppress this warning.\n",
      "  warnings.warn(\n",
      "c:\\Users\\91976\\Desktop\\Forecast_llm_comparison\\.env\\lib\\site-packages\\statsforecast\\core.py:485: FutureWarning: In a future version the predictions will have the id as a column. You can set the `NIXTLA_ID_AS_COL` environment variable to adopt the new behavior and to suppress this warning.\n",
      "  warnings.warn(\n",
      "c:\\Users\\91976\\Desktop\\Forecast_llm_comparison\\.env\\lib\\site-packages\\statsforecast\\core.py:485: FutureWarning: In a future version the predictions will have the id as a column. You can set the `NIXTLA_ID_AS_COL` environment variable to adopt the new behavior and to suppress this warning.\n",
      "  warnings.warn(\n",
      "c:\\Users\\91976\\Desktop\\Forecast_llm_comparison\\.env\\lib\\site-packages\\statsforecast\\core.py:485: FutureWarning: In a future version the predictions will have the id as a column. You can set the `NIXTLA_ID_AS_COL` environment variable to adopt the new behavior and to suppress this warning.\n",
      "  warnings.warn(\n",
      "c:\\Users\\91976\\Desktop\\Forecast_llm_comparison\\.env\\lib\\site-packages\\statsforecast\\core.py:485: FutureWarning: In a future version the predictions will have the id as a column. You can set the `NIXTLA_ID_AS_COL` environment variable to adopt the new behavior and to suppress this warning.\n",
      "  warnings.warn(\n",
      "c:\\Users\\91976\\Desktop\\Forecast_llm_comparison\\.env\\lib\\site-packages\\statsforecast\\core.py:485: FutureWarning: In a future version the predictions will have the id as a column. You can set the `NIXTLA_ID_AS_COL` environment variable to adopt the new behavior and to suppress this warning.\n",
      "  warnings.warn(\n",
      "c:\\Users\\91976\\Desktop\\Forecast_llm_comparison\\.env\\lib\\site-packages\\statsforecast\\core.py:485: FutureWarning: In a future version the predictions will have the id as a column. You can set the `NIXTLA_ID_AS_COL` environment variable to adopt the new behavior and to suppress this warning.\n",
      "  warnings.warn(\n",
      "c:\\Users\\91976\\Desktop\\Forecast_llm_comparison\\.env\\lib\\site-packages\\statsforecast\\core.py:485: FutureWarning: In a future version the predictions will have the id as a column. You can set the `NIXTLA_ID_AS_COL` environment variable to adopt the new behavior and to suppress this warning.\n",
      "  warnings.warn(\n",
      "c:\\Users\\91976\\Desktop\\Forecast_llm_comparison\\.env\\lib\\site-packages\\statsforecast\\core.py:485: FutureWarning: In a future version the predictions will have the id as a column. You can set the `NIXTLA_ID_AS_COL` environment variable to adopt the new behavior and to suppress this warning.\n",
      "  warnings.warn(\n",
      "c:\\Users\\91976\\Desktop\\Forecast_llm_comparison\\.env\\lib\\site-packages\\statsforecast\\core.py:485: FutureWarning: In a future version the predictions will have the id as a column. You can set the `NIXTLA_ID_AS_COL` environment variable to adopt the new behavior and to suppress this warning.\n",
      "  warnings.warn(\n",
      "c:\\Users\\91976\\Desktop\\Forecast_llm_comparison\\.env\\lib\\site-packages\\statsforecast\\core.py:485: FutureWarning: In a future version the predictions will have the id as a column. You can set the `NIXTLA_ID_AS_COL` environment variable to adopt the new behavior and to suppress this warning.\n",
      "  warnings.warn(\n",
      "c:\\Users\\91976\\Desktop\\Forecast_llm_comparison\\.env\\lib\\site-packages\\statsforecast\\core.py:485: FutureWarning: In a future version the predictions will have the id as a column. You can set the `NIXTLA_ID_AS_COL` environment variable to adopt the new behavior and to suppress this warning.\n",
      "  warnings.warn(\n",
      "c:\\Users\\91976\\Desktop\\Forecast_llm_comparison\\.env\\lib\\site-packages\\statsforecast\\core.py:485: FutureWarning: In a future version the predictions will have the id as a column. You can set the `NIXTLA_ID_AS_COL` environment variable to adopt the new behavior and to suppress this warning.\n",
      "  warnings.warn(\n",
      "c:\\Users\\91976\\Desktop\\Forecast_llm_comparison\\.env\\lib\\site-packages\\statsforecast\\core.py:485: FutureWarning: In a future version the predictions will have the id as a column. You can set the `NIXTLA_ID_AS_COL` environment variable to adopt the new behavior and to suppress this warning.\n",
      "  warnings.warn(\n",
      "c:\\Users\\91976\\Desktop\\Forecast_llm_comparison\\.env\\lib\\site-packages\\statsforecast\\core.py:485: FutureWarning: In a future version the predictions will have the id as a column. You can set the `NIXTLA_ID_AS_COL` environment variable to adopt the new behavior and to suppress this warning.\n",
      "  warnings.warn(\n",
      "c:\\Users\\91976\\Desktop\\Forecast_llm_comparison\\.env\\lib\\site-packages\\statsforecast\\core.py:485: FutureWarning: In a future version the predictions will have the id as a column. You can set the `NIXTLA_ID_AS_COL` environment variable to adopt the new behavior and to suppress this warning.\n",
      "  warnings.warn(\n",
      "c:\\Users\\91976\\Desktop\\Forecast_llm_comparison\\.env\\lib\\site-packages\\statsforecast\\core.py:485: FutureWarning: In a future version the predictions will have the id as a column. You can set the `NIXTLA_ID_AS_COL` environment variable to adopt the new behavior and to suppress this warning.\n",
      "  warnings.warn(\n",
      "c:\\Users\\91976\\Desktop\\Forecast_llm_comparison\\.env\\lib\\site-packages\\statsforecast\\core.py:485: FutureWarning: In a future version the predictions will have the id as a column. You can set the `NIXTLA_ID_AS_COL` environment variable to adopt the new behavior and to suppress this warning.\n",
      "  warnings.warn(\n",
      "c:\\Users\\91976\\Desktop\\Forecast_llm_comparison\\.env\\lib\\site-packages\\statsforecast\\core.py:485: FutureWarning: In a future version the predictions will have the id as a column. You can set the `NIXTLA_ID_AS_COL` environment variable to adopt the new behavior and to suppress this warning.\n",
      "  warnings.warn(\n",
      "c:\\Users\\91976\\Desktop\\Forecast_llm_comparison\\.env\\lib\\site-packages\\statsforecast\\core.py:485: FutureWarning: In a future version the predictions will have the id as a column. You can set the `NIXTLA_ID_AS_COL` environment variable to adopt the new behavior and to suppress this warning.\n",
      "  warnings.warn(\n",
      "c:\\Users\\91976\\Desktop\\Forecast_llm_comparison\\.env\\lib\\site-packages\\statsforecast\\core.py:485: FutureWarning: In a future version the predictions will have the id as a column. You can set the `NIXTLA_ID_AS_COL` environment variable to adopt the new behavior and to suppress this warning.\n",
      "  warnings.warn(\n",
      "c:\\Users\\91976\\Desktop\\Forecast_llm_comparison\\.env\\lib\\site-packages\\statsforecast\\core.py:485: FutureWarning: In a future version the predictions will have the id as a column. You can set the `NIXTLA_ID_AS_COL` environment variable to adopt the new behavior and to suppress this warning.\n",
      "  warnings.warn(\n",
      "c:\\Users\\91976\\Desktop\\Forecast_llm_comparison\\.env\\lib\\site-packages\\statsforecast\\core.py:485: FutureWarning: In a future version the predictions will have the id as a column. You can set the `NIXTLA_ID_AS_COL` environment variable to adopt the new behavior and to suppress this warning.\n",
      "  warnings.warn(\n",
      "c:\\Users\\91976\\Desktop\\Forecast_llm_comparison\\.env\\lib\\site-packages\\statsforecast\\core.py:485: FutureWarning: In a future version the predictions will have the id as a column. You can set the `NIXTLA_ID_AS_COL` environment variable to adopt the new behavior and to suppress this warning.\n",
      "  warnings.warn(\n",
      "c:\\Users\\91976\\Desktop\\Forecast_llm_comparison\\.env\\lib\\site-packages\\statsforecast\\core.py:485: FutureWarning: In a future version the predictions will have the id as a column. You can set the `NIXTLA_ID_AS_COL` environment variable to adopt the new behavior and to suppress this warning.\n",
      "  warnings.warn(\n",
      "c:\\Users\\91976\\Desktop\\Forecast_llm_comparison\\.env\\lib\\site-packages\\statsforecast\\core.py:485: FutureWarning: In a future version the predictions will have the id as a column. You can set the `NIXTLA_ID_AS_COL` environment variable to adopt the new behavior and to suppress this warning.\n",
      "  warnings.warn(\n",
      "c:\\Users\\91976\\Desktop\\Forecast_llm_comparison\\.env\\lib\\site-packages\\statsforecast\\core.py:485: FutureWarning: In a future version the predictions will have the id as a column. You can set the `NIXTLA_ID_AS_COL` environment variable to adopt the new behavior and to suppress this warning.\n",
      "  warnings.warn(\n",
      "c:\\Users\\91976\\Desktop\\Forecast_llm_comparison\\.env\\lib\\site-packages\\statsforecast\\core.py:485: FutureWarning: In a future version the predictions will have the id as a column. You can set the `NIXTLA_ID_AS_COL` environment variable to adopt the new behavior and to suppress this warning.\n",
      "  warnings.warn(\n",
      "c:\\Users\\91976\\Desktop\\Forecast_llm_comparison\\.env\\lib\\site-packages\\statsforecast\\core.py:485: FutureWarning: In a future version the predictions will have the id as a column. You can set the `NIXTLA_ID_AS_COL` environment variable to adopt the new behavior and to suppress this warning.\n",
      "  warnings.warn(\n",
      "c:\\Users\\91976\\Desktop\\Forecast_llm_comparison\\.env\\lib\\site-packages\\statsforecast\\core.py:485: FutureWarning: In a future version the predictions will have the id as a column. You can set the `NIXTLA_ID_AS_COL` environment variable to adopt the new behavior and to suppress this warning.\n",
      "  warnings.warn(\n",
      "c:\\Users\\91976\\Desktop\\Forecast_llm_comparison\\.env\\lib\\site-packages\\statsforecast\\core.py:485: FutureWarning: In a future version the predictions will have the id as a column. You can set the `NIXTLA_ID_AS_COL` environment variable to adopt the new behavior and to suppress this warning.\n",
      "  warnings.warn(\n",
      "c:\\Users\\91976\\Desktop\\Forecast_llm_comparison\\.env\\lib\\site-packages\\statsforecast\\core.py:485: FutureWarning: In a future version the predictions will have the id as a column. You can set the `NIXTLA_ID_AS_COL` environment variable to adopt the new behavior and to suppress this warning.\n",
      "  warnings.warn(\n",
      "c:\\Users\\91976\\Desktop\\Forecast_llm_comparison\\.env\\lib\\site-packages\\statsforecast\\core.py:485: FutureWarning: In a future version the predictions will have the id as a column. You can set the `NIXTLA_ID_AS_COL` environment variable to adopt the new behavior and to suppress this warning.\n",
      "  warnings.warn(\n",
      "c:\\Users\\91976\\Desktop\\Forecast_llm_comparison\\.env\\lib\\site-packages\\statsforecast\\core.py:485: FutureWarning: In a future version the predictions will have the id as a column. You can set the `NIXTLA_ID_AS_COL` environment variable to adopt the new behavior and to suppress this warning.\n",
      "  warnings.warn(\n",
      "c:\\Users\\91976\\Desktop\\Forecast_llm_comparison\\.env\\lib\\site-packages\\statsforecast\\core.py:485: FutureWarning: In a future version the predictions will have the id as a column. You can set the `NIXTLA_ID_AS_COL` environment variable to adopt the new behavior and to suppress this warning.\n",
      "  warnings.warn(\n",
      "c:\\Users\\91976\\Desktop\\Forecast_llm_comparison\\.env\\lib\\site-packages\\statsforecast\\core.py:485: FutureWarning: In a future version the predictions will have the id as a column. You can set the `NIXTLA_ID_AS_COL` environment variable to adopt the new behavior and to suppress this warning.\n",
      "  warnings.warn(\n",
      "c:\\Users\\91976\\Desktop\\Forecast_llm_comparison\\.env\\lib\\site-packages\\statsforecast\\core.py:485: FutureWarning: In a future version the predictions will have the id as a column. You can set the `NIXTLA_ID_AS_COL` environment variable to adopt the new behavior and to suppress this warning.\n",
      "  warnings.warn(\n",
      "c:\\Users\\91976\\Desktop\\Forecast_llm_comparison\\.env\\lib\\site-packages\\statsforecast\\core.py:485: FutureWarning: In a future version the predictions will have the id as a column. You can set the `NIXTLA_ID_AS_COL` environment variable to adopt the new behavior and to suppress this warning.\n",
      "  warnings.warn(\n",
      "c:\\Users\\91976\\Desktop\\Forecast_llm_comparison\\.env\\lib\\site-packages\\statsforecast\\core.py:485: FutureWarning: In a future version the predictions will have the id as a column. You can set the `NIXTLA_ID_AS_COL` environment variable to adopt the new behavior and to suppress this warning.\n",
      "  warnings.warn(\n",
      "c:\\Users\\91976\\Desktop\\Forecast_llm_comparison\\.env\\lib\\site-packages\\statsforecast\\core.py:485: FutureWarning: In a future version the predictions will have the id as a column. You can set the `NIXTLA_ID_AS_COL` environment variable to adopt the new behavior and to suppress this warning.\n",
      "  warnings.warn(\n",
      "c:\\Users\\91976\\Desktop\\Forecast_llm_comparison\\.env\\lib\\site-packages\\statsforecast\\core.py:485: FutureWarning: In a future version the predictions will have the id as a column. You can set the `NIXTLA_ID_AS_COL` environment variable to adopt the new behavior and to suppress this warning.\n",
      "  warnings.warn(\n",
      "c:\\Users\\91976\\Desktop\\Forecast_llm_comparison\\.env\\lib\\site-packages\\statsforecast\\core.py:485: FutureWarning: In a future version the predictions will have the id as a column. You can set the `NIXTLA_ID_AS_COL` environment variable to adopt the new behavior and to suppress this warning.\n",
      "  warnings.warn(\n",
      "c:\\Users\\91976\\Desktop\\Forecast_llm_comparison\\.env\\lib\\site-packages\\statsforecast\\core.py:485: FutureWarning: In a future version the predictions will have the id as a column. You can set the `NIXTLA_ID_AS_COL` environment variable to adopt the new behavior and to suppress this warning.\n",
      "  warnings.warn(\n",
      "c:\\Users\\91976\\Desktop\\Forecast_llm_comparison\\.env\\lib\\site-packages\\statsforecast\\core.py:485: FutureWarning: In a future version the predictions will have the id as a column. You can set the `NIXTLA_ID_AS_COL` environment variable to adopt the new behavior and to suppress this warning.\n",
      "  warnings.warn(\n",
      "c:\\Users\\91976\\Desktop\\Forecast_llm_comparison\\.env\\lib\\site-packages\\statsforecast\\core.py:485: FutureWarning: In a future version the predictions will have the id as a column. You can set the `NIXTLA_ID_AS_COL` environment variable to adopt the new behavior and to suppress this warning.\n",
      "  warnings.warn(\n",
      "c:\\Users\\91976\\Desktop\\Forecast_llm_comparison\\.env\\lib\\site-packages\\statsforecast\\core.py:485: FutureWarning: In a future version the predictions will have the id as a column. You can set the `NIXTLA_ID_AS_COL` environment variable to adopt the new behavior and to suppress this warning.\n",
      "  warnings.warn(\n",
      "c:\\Users\\91976\\Desktop\\Forecast_llm_comparison\\.env\\lib\\site-packages\\statsforecast\\core.py:485: FutureWarning: In a future version the predictions will have the id as a column. You can set the `NIXTLA_ID_AS_COL` environment variable to adopt the new behavior and to suppress this warning.\n",
      "  warnings.warn(\n",
      "c:\\Users\\91976\\Desktop\\Forecast_llm_comparison\\.env\\lib\\site-packages\\statsforecast\\core.py:485: FutureWarning: In a future version the predictions will have the id as a column. You can set the `NIXTLA_ID_AS_COL` environment variable to adopt the new behavior and to suppress this warning.\n",
      "  warnings.warn(\n",
      "c:\\Users\\91976\\Desktop\\Forecast_llm_comparison\\.env\\lib\\site-packages\\statsforecast\\core.py:485: FutureWarning: In a future version the predictions will have the id as a column. You can set the `NIXTLA_ID_AS_COL` environment variable to adopt the new behavior and to suppress this warning.\n",
      "  warnings.warn(\n",
      "c:\\Users\\91976\\Desktop\\Forecast_llm_comparison\\.env\\lib\\site-packages\\statsforecast\\core.py:485: FutureWarning: In a future version the predictions will have the id as a column. You can set the `NIXTLA_ID_AS_COL` environment variable to adopt the new behavior and to suppress this warning.\n",
      "  warnings.warn(\n",
      "c:\\Users\\91976\\Desktop\\Forecast_llm_comparison\\.env\\lib\\site-packages\\statsforecast\\core.py:485: FutureWarning: In a future version the predictions will have the id as a column. You can set the `NIXTLA_ID_AS_COL` environment variable to adopt the new behavior and to suppress this warning.\n",
      "  warnings.warn(\n",
      "c:\\Users\\91976\\Desktop\\Forecast_llm_comparison\\.env\\lib\\site-packages\\statsforecast\\core.py:485: FutureWarning: In a future version the predictions will have the id as a column. You can set the `NIXTLA_ID_AS_COL` environment variable to adopt the new behavior and to suppress this warning.\n",
      "  warnings.warn(\n",
      "c:\\Users\\91976\\Desktop\\Forecast_llm_comparison\\.env\\lib\\site-packages\\statsforecast\\core.py:485: FutureWarning: In a future version the predictions will have the id as a column. You can set the `NIXTLA_ID_AS_COL` environment variable to adopt the new behavior and to suppress this warning.\n",
      "  warnings.warn(\n",
      "c:\\Users\\91976\\Desktop\\Forecast_llm_comparison\\.env\\lib\\site-packages\\statsforecast\\core.py:485: FutureWarning: In a future version the predictions will have the id as a column. You can set the `NIXTLA_ID_AS_COL` environment variable to adopt the new behavior and to suppress this warning.\n",
      "  warnings.warn(\n",
      "c:\\Users\\91976\\Desktop\\Forecast_llm_comparison\\.env\\lib\\site-packages\\statsforecast\\core.py:485: FutureWarning: In a future version the predictions will have the id as a column. You can set the `NIXTLA_ID_AS_COL` environment variable to adopt the new behavior and to suppress this warning.\n",
      "  warnings.warn(\n",
      "c:\\Users\\91976\\Desktop\\Forecast_llm_comparison\\.env\\lib\\site-packages\\statsforecast\\core.py:485: FutureWarning: In a future version the predictions will have the id as a column. You can set the `NIXTLA_ID_AS_COL` environment variable to adopt the new behavior and to suppress this warning.\n",
      "  warnings.warn(\n",
      "c:\\Users\\91976\\Desktop\\Forecast_llm_comparison\\.env\\lib\\site-packages\\statsforecast\\core.py:485: FutureWarning: In a future version the predictions will have the id as a column. You can set the `NIXTLA_ID_AS_COL` environment variable to adopt the new behavior and to suppress this warning.\n",
      "  warnings.warn(\n",
      "c:\\Users\\91976\\Desktop\\Forecast_llm_comparison\\.env\\lib\\site-packages\\statsforecast\\core.py:485: FutureWarning: In a future version the predictions will have the id as a column. You can set the `NIXTLA_ID_AS_COL` environment variable to adopt the new behavior and to suppress this warning.\n",
      "  warnings.warn(\n",
      "c:\\Users\\91976\\Desktop\\Forecast_llm_comparison\\.env\\lib\\site-packages\\statsforecast\\core.py:485: FutureWarning: In a future version the predictions will have the id as a column. You can set the `NIXTLA_ID_AS_COL` environment variable to adopt the new behavior and to suppress this warning.\n",
      "  warnings.warn(\n",
      "c:\\Users\\91976\\Desktop\\Forecast_llm_comparison\\.env\\lib\\site-packages\\statsforecast\\core.py:485: FutureWarning: In a future version the predictions will have the id as a column. You can set the `NIXTLA_ID_AS_COL` environment variable to adopt the new behavior and to suppress this warning.\n",
      "  warnings.warn(\n",
      "c:\\Users\\91976\\Desktop\\Forecast_llm_comparison\\.env\\lib\\site-packages\\statsforecast\\core.py:485: FutureWarning: In a future version the predictions will have the id as a column. You can set the `NIXTLA_ID_AS_COL` environment variable to adopt the new behavior and to suppress this warning.\n",
      "  warnings.warn(\n",
      "c:\\Users\\91976\\Desktop\\Forecast_llm_comparison\\.env\\lib\\site-packages\\statsforecast\\core.py:485: FutureWarning: In a future version the predictions will have the id as a column. You can set the `NIXTLA_ID_AS_COL` environment variable to adopt the new behavior and to suppress this warning.\n",
      "  warnings.warn(\n",
      "c:\\Users\\91976\\Desktop\\Forecast_llm_comparison\\.env\\lib\\site-packages\\statsforecast\\core.py:485: FutureWarning: In a future version the predictions will have the id as a column. You can set the `NIXTLA_ID_AS_COL` environment variable to adopt the new behavior and to suppress this warning.\n",
      "  warnings.warn(\n",
      "c:\\Users\\91976\\Desktop\\Forecast_llm_comparison\\.env\\lib\\site-packages\\statsforecast\\core.py:485: FutureWarning: In a future version the predictions will have the id as a column. You can set the `NIXTLA_ID_AS_COL` environment variable to adopt the new behavior and to suppress this warning.\n",
      "  warnings.warn(\n",
      "c:\\Users\\91976\\Desktop\\Forecast_llm_comparison\\.env\\lib\\site-packages\\statsforecast\\core.py:485: FutureWarning: In a future version the predictions will have the id as a column. You can set the `NIXTLA_ID_AS_COL` environment variable to adopt the new behavior and to suppress this warning.\n",
      "  warnings.warn(\n",
      "c:\\Users\\91976\\Desktop\\Forecast_llm_comparison\\.env\\lib\\site-packages\\statsforecast\\core.py:485: FutureWarning: In a future version the predictions will have the id as a column. You can set the `NIXTLA_ID_AS_COL` environment variable to adopt the new behavior and to suppress this warning.\n",
      "  warnings.warn(\n",
      "c:\\Users\\91976\\Desktop\\Forecast_llm_comparison\\.env\\lib\\site-packages\\statsforecast\\core.py:485: FutureWarning: In a future version the predictions will have the id as a column. You can set the `NIXTLA_ID_AS_COL` environment variable to adopt the new behavior and to suppress this warning.\n",
      "  warnings.warn(\n",
      "c:\\Users\\91976\\Desktop\\Forecast_llm_comparison\\.env\\lib\\site-packages\\statsforecast\\core.py:485: FutureWarning: In a future version the predictions will have the id as a column. You can set the `NIXTLA_ID_AS_COL` environment variable to adopt the new behavior and to suppress this warning.\n",
      "  warnings.warn(\n",
      "c:\\Users\\91976\\Desktop\\Forecast_llm_comparison\\.env\\lib\\site-packages\\statsforecast\\core.py:485: FutureWarning: In a future version the predictions will have the id as a column. You can set the `NIXTLA_ID_AS_COL` environment variable to adopt the new behavior and to suppress this warning.\n",
      "  warnings.warn(\n",
      "c:\\Users\\91976\\Desktop\\Forecast_llm_comparison\\.env\\lib\\site-packages\\statsforecast\\core.py:485: FutureWarning: In a future version the predictions will have the id as a column. You can set the `NIXTLA_ID_AS_COL` environment variable to adopt the new behavior and to suppress this warning.\n",
      "  warnings.warn(\n",
      "c:\\Users\\91976\\Desktop\\Forecast_llm_comparison\\.env\\lib\\site-packages\\statsforecast\\core.py:485: FutureWarning: In a future version the predictions will have the id as a column. You can set the `NIXTLA_ID_AS_COL` environment variable to adopt the new behavior and to suppress this warning.\n",
      "  warnings.warn(\n",
      "c:\\Users\\91976\\Desktop\\Forecast_llm_comparison\\.env\\lib\\site-packages\\statsforecast\\core.py:485: FutureWarning: In a future version the predictions will have the id as a column. You can set the `NIXTLA_ID_AS_COL` environment variable to adopt the new behavior and to suppress this warning.\n",
      "  warnings.warn(\n",
      "c:\\Users\\91976\\Desktop\\Forecast_llm_comparison\\.env\\lib\\site-packages\\statsforecast\\core.py:485: FutureWarning: In a future version the predictions will have the id as a column. You can set the `NIXTLA_ID_AS_COL` environment variable to adopt the new behavior and to suppress this warning.\n",
      "  warnings.warn(\n",
      "c:\\Users\\91976\\Desktop\\Forecast_llm_comparison\\.env\\lib\\site-packages\\statsforecast\\core.py:485: FutureWarning: In a future version the predictions will have the id as a column. You can set the `NIXTLA_ID_AS_COL` environment variable to adopt the new behavior and to suppress this warning.\n",
      "  warnings.warn(\n",
      "c:\\Users\\91976\\Desktop\\Forecast_llm_comparison\\.env\\lib\\site-packages\\statsforecast\\core.py:485: FutureWarning: In a future version the predictions will have the id as a column. You can set the `NIXTLA_ID_AS_COL` environment variable to adopt the new behavior and to suppress this warning.\n",
      "  warnings.warn(\n",
      "c:\\Users\\91976\\Desktop\\Forecast_llm_comparison\\.env\\lib\\site-packages\\statsforecast\\core.py:485: FutureWarning: In a future version the predictions will have the id as a column. You can set the `NIXTLA_ID_AS_COL` environment variable to adopt the new behavior and to suppress this warning.\n",
      "  warnings.warn(\n",
      "c:\\Users\\91976\\Desktop\\Forecast_llm_comparison\\.env\\lib\\site-packages\\statsforecast\\core.py:485: FutureWarning: In a future version the predictions will have the id as a column. You can set the `NIXTLA_ID_AS_COL` environment variable to adopt the new behavior and to suppress this warning.\n",
      "  warnings.warn(\n",
      "c:\\Users\\91976\\Desktop\\Forecast_llm_comparison\\.env\\lib\\site-packages\\statsforecast\\core.py:485: FutureWarning: In a future version the predictions will have the id as a column. You can set the `NIXTLA_ID_AS_COL` environment variable to adopt the new behavior and to suppress this warning.\n",
      "  warnings.warn(\n",
      "c:\\Users\\91976\\Desktop\\Forecast_llm_comparison\\.env\\lib\\site-packages\\statsforecast\\core.py:485: FutureWarning: In a future version the predictions will have the id as a column. You can set the `NIXTLA_ID_AS_COL` environment variable to adopt the new behavior and to suppress this warning.\n",
      "  warnings.warn(\n",
      "c:\\Users\\91976\\Desktop\\Forecast_llm_comparison\\.env\\lib\\site-packages\\statsforecast\\core.py:485: FutureWarning: In a future version the predictions will have the id as a column. You can set the `NIXTLA_ID_AS_COL` environment variable to adopt the new behavior and to suppress this warning.\n",
      "  warnings.warn(\n",
      "c:\\Users\\91976\\Desktop\\Forecast_llm_comparison\\.env\\lib\\site-packages\\statsforecast\\core.py:485: FutureWarning: In a future version the predictions will have the id as a column. You can set the `NIXTLA_ID_AS_COL` environment variable to adopt the new behavior and to suppress this warning.\n",
      "  warnings.warn(\n",
      "c:\\Users\\91976\\Desktop\\Forecast_llm_comparison\\.env\\lib\\site-packages\\statsforecast\\core.py:485: FutureWarning: In a future version the predictions will have the id as a column. You can set the `NIXTLA_ID_AS_COL` environment variable to adopt the new behavior and to suppress this warning.\n",
      "  warnings.warn(\n",
      "c:\\Users\\91976\\Desktop\\Forecast_llm_comparison\\.env\\lib\\site-packages\\statsforecast\\core.py:485: FutureWarning: In a future version the predictions will have the id as a column. You can set the `NIXTLA_ID_AS_COL` environment variable to adopt the new behavior and to suppress this warning.\n",
      "  warnings.warn(\n",
      "c:\\Users\\91976\\Desktop\\Forecast_llm_comparison\\.env\\lib\\site-packages\\statsforecast\\core.py:485: FutureWarning: In a future version the predictions will have the id as a column. You can set the `NIXTLA_ID_AS_COL` environment variable to adopt the new behavior and to suppress this warning.\n",
      "  warnings.warn(\n",
      "c:\\Users\\91976\\Desktop\\Forecast_llm_comparison\\.env\\lib\\site-packages\\statsforecast\\core.py:485: FutureWarning: In a future version the predictions will have the id as a column. You can set the `NIXTLA_ID_AS_COL` environment variable to adopt the new behavior and to suppress this warning.\n",
      "  warnings.warn(\n",
      "c:\\Users\\91976\\Desktop\\Forecast_llm_comparison\\.env\\lib\\site-packages\\statsforecast\\core.py:485: FutureWarning: In a future version the predictions will have the id as a column. You can set the `NIXTLA_ID_AS_COL` environment variable to adopt the new behavior and to suppress this warning.\n",
      "  warnings.warn(\n",
      "c:\\Users\\91976\\Desktop\\Forecast_llm_comparison\\.env\\lib\\site-packages\\statsforecast\\core.py:485: FutureWarning: In a future version the predictions will have the id as a column. You can set the `NIXTLA_ID_AS_COL` environment variable to adopt the new behavior and to suppress this warning.\n",
      "  warnings.warn(\n",
      "c:\\Users\\91976\\Desktop\\Forecast_llm_comparison\\.env\\lib\\site-packages\\statsforecast\\core.py:485: FutureWarning: In a future version the predictions will have the id as a column. You can set the `NIXTLA_ID_AS_COL` environment variable to adopt the new behavior and to suppress this warning.\n",
      "  warnings.warn(\n",
      "c:\\Users\\91976\\Desktop\\Forecast_llm_comparison\\.env\\lib\\site-packages\\statsforecast\\core.py:485: FutureWarning: In a future version the predictions will have the id as a column. You can set the `NIXTLA_ID_AS_COL` environment variable to adopt the new behavior and to suppress this warning.\n",
      "  warnings.warn(\n",
      "c:\\Users\\91976\\Desktop\\Forecast_llm_comparison\\.env\\lib\\site-packages\\statsforecast\\core.py:485: FutureWarning: In a future version the predictions will have the id as a column. You can set the `NIXTLA_ID_AS_COL` environment variable to adopt the new behavior and to suppress this warning.\n",
      "  warnings.warn(\n",
      "c:\\Users\\91976\\Desktop\\Forecast_llm_comparison\\.env\\lib\\site-packages\\statsforecast\\core.py:485: FutureWarning: In a future version the predictions will have the id as a column. You can set the `NIXTLA_ID_AS_COL` environment variable to adopt the new behavior and to suppress this warning.\n",
      "  warnings.warn(\n",
      "c:\\Users\\91976\\Desktop\\Forecast_llm_comparison\\.env\\lib\\site-packages\\statsforecast\\core.py:485: FutureWarning: In a future version the predictions will have the id as a column. You can set the `NIXTLA_ID_AS_COL` environment variable to adopt the new behavior and to suppress this warning.\n",
      "  warnings.warn(\n",
      "c:\\Users\\91976\\Desktop\\Forecast_llm_comparison\\.env\\lib\\site-packages\\statsforecast\\core.py:485: FutureWarning: In a future version the predictions will have the id as a column. You can set the `NIXTLA_ID_AS_COL` environment variable to adopt the new behavior and to suppress this warning.\n",
      "  warnings.warn(\n",
      "c:\\Users\\91976\\Desktop\\Forecast_llm_comparison\\.env\\lib\\site-packages\\statsforecast\\core.py:485: FutureWarning: In a future version the predictions will have the id as a column. You can set the `NIXTLA_ID_AS_COL` environment variable to adopt the new behavior and to suppress this warning.\n",
      "  warnings.warn(\n",
      "c:\\Users\\91976\\Desktop\\Forecast_llm_comparison\\.env\\lib\\site-packages\\statsforecast\\core.py:485: FutureWarning: In a future version the predictions will have the id as a column. You can set the `NIXTLA_ID_AS_COL` environment variable to adopt the new behavior and to suppress this warning.\n",
      "  warnings.warn(\n",
      "c:\\Users\\91976\\Desktop\\Forecast_llm_comparison\\.env\\lib\\site-packages\\statsforecast\\core.py:485: FutureWarning: In a future version the predictions will have the id as a column. You can set the `NIXTLA_ID_AS_COL` environment variable to adopt the new behavior and to suppress this warning.\n",
      "  warnings.warn(\n",
      "c:\\Users\\91976\\Desktop\\Forecast_llm_comparison\\.env\\lib\\site-packages\\statsforecast\\core.py:485: FutureWarning: In a future version the predictions will have the id as a column. You can set the `NIXTLA_ID_AS_COL` environment variable to adopt the new behavior and to suppress this warning.\n",
      "  warnings.warn(\n",
      "c:\\Users\\91976\\Desktop\\Forecast_llm_comparison\\.env\\lib\\site-packages\\statsforecast\\core.py:485: FutureWarning: In a future version the predictions will have the id as a column. You can set the `NIXTLA_ID_AS_COL` environment variable to adopt the new behavior and to suppress this warning.\n",
      "  warnings.warn(\n",
      "c:\\Users\\91976\\Desktop\\Forecast_llm_comparison\\.env\\lib\\site-packages\\statsforecast\\core.py:485: FutureWarning: In a future version the predictions will have the id as a column. You can set the `NIXTLA_ID_AS_COL` environment variable to adopt the new behavior and to suppress this warning.\n",
      "  warnings.warn(\n",
      "c:\\Users\\91976\\Desktop\\Forecast_llm_comparison\\.env\\lib\\site-packages\\statsforecast\\core.py:485: FutureWarning: In a future version the predictions will have the id as a column. You can set the `NIXTLA_ID_AS_COL` environment variable to adopt the new behavior and to suppress this warning.\n",
      "  warnings.warn(\n",
      "c:\\Users\\91976\\Desktop\\Forecast_llm_comparison\\.env\\lib\\site-packages\\statsforecast\\core.py:485: FutureWarning: In a future version the predictions will have the id as a column. You can set the `NIXTLA_ID_AS_COL` environment variable to adopt the new behavior and to suppress this warning.\n",
      "  warnings.warn(\n",
      "c:\\Users\\91976\\Desktop\\Forecast_llm_comparison\\.env\\lib\\site-packages\\statsforecast\\core.py:485: FutureWarning: In a future version the predictions will have the id as a column. You can set the `NIXTLA_ID_AS_COL` environment variable to adopt the new behavior and to suppress this warning.\n",
      "  warnings.warn(\n",
      "c:\\Users\\91976\\Desktop\\Forecast_llm_comparison\\.env\\lib\\site-packages\\statsforecast\\core.py:485: FutureWarning: In a future version the predictions will have the id as a column. You can set the `NIXTLA_ID_AS_COL` environment variable to adopt the new behavior and to suppress this warning.\n",
      "  warnings.warn(\n",
      "c:\\Users\\91976\\Desktop\\Forecast_llm_comparison\\.env\\lib\\site-packages\\statsforecast\\core.py:485: FutureWarning: In a future version the predictions will have the id as a column. You can set the `NIXTLA_ID_AS_COL` environment variable to adopt the new behavior and to suppress this warning.\n",
      "  warnings.warn(\n",
      "c:\\Users\\91976\\Desktop\\Forecast_llm_comparison\\.env\\lib\\site-packages\\statsforecast\\core.py:485: FutureWarning: In a future version the predictions will have the id as a column. You can set the `NIXTLA_ID_AS_COL` environment variable to adopt the new behavior and to suppress this warning.\n",
      "  warnings.warn(\n",
      "c:\\Users\\91976\\Desktop\\Forecast_llm_comparison\\.env\\lib\\site-packages\\statsforecast\\core.py:485: FutureWarning: In a future version the predictions will have the id as a column. You can set the `NIXTLA_ID_AS_COL` environment variable to adopt the new behavior and to suppress this warning.\n",
      "  warnings.warn(\n",
      "c:\\Users\\91976\\Desktop\\Forecast_llm_comparison\\.env\\lib\\site-packages\\statsforecast\\core.py:485: FutureWarning: In a future version the predictions will have the id as a column. You can set the `NIXTLA_ID_AS_COL` environment variable to adopt the new behavior and to suppress this warning.\n",
      "  warnings.warn(\n",
      "c:\\Users\\91976\\Desktop\\Forecast_llm_comparison\\.env\\lib\\site-packages\\statsforecast\\core.py:485: FutureWarning: In a future version the predictions will have the id as a column. You can set the `NIXTLA_ID_AS_COL` environment variable to adopt the new behavior and to suppress this warning.\n",
      "  warnings.warn(\n",
      "c:\\Users\\91976\\Desktop\\Forecast_llm_comparison\\.env\\lib\\site-packages\\statsforecast\\core.py:485: FutureWarning: In a future version the predictions will have the id as a column. You can set the `NIXTLA_ID_AS_COL` environment variable to adopt the new behavior and to suppress this warning.\n",
      "  warnings.warn(\n",
      "c:\\Users\\91976\\Desktop\\Forecast_llm_comparison\\.env\\lib\\site-packages\\statsforecast\\core.py:485: FutureWarning: In a future version the predictions will have the id as a column. You can set the `NIXTLA_ID_AS_COL` environment variable to adopt the new behavior and to suppress this warning.\n",
      "  warnings.warn(\n",
      "c:\\Users\\91976\\Desktop\\Forecast_llm_comparison\\.env\\lib\\site-packages\\statsforecast\\core.py:485: FutureWarning: In a future version the predictions will have the id as a column. You can set the `NIXTLA_ID_AS_COL` environment variable to adopt the new behavior and to suppress this warning.\n",
      "  warnings.warn(\n",
      "c:\\Users\\91976\\Desktop\\Forecast_llm_comparison\\.env\\lib\\site-packages\\statsforecast\\core.py:485: FutureWarning: In a future version the predictions will have the id as a column. You can set the `NIXTLA_ID_AS_COL` environment variable to adopt the new behavior and to suppress this warning.\n",
      "  warnings.warn(\n",
      "c:\\Users\\91976\\Desktop\\Forecast_llm_comparison\\.env\\lib\\site-packages\\statsforecast\\core.py:485: FutureWarning: In a future version the predictions will have the id as a column. You can set the `NIXTLA_ID_AS_COL` environment variable to adopt the new behavior and to suppress this warning.\n",
      "  warnings.warn(\n",
      "c:\\Users\\91976\\Desktop\\Forecast_llm_comparison\\.env\\lib\\site-packages\\statsforecast\\core.py:485: FutureWarning: In a future version the predictions will have the id as a column. You can set the `NIXTLA_ID_AS_COL` environment variable to adopt the new behavior and to suppress this warning.\n",
      "  warnings.warn(\n",
      "c:\\Users\\91976\\Desktop\\Forecast_llm_comparison\\.env\\lib\\site-packages\\statsforecast\\core.py:485: FutureWarning: In a future version the predictions will have the id as a column. You can set the `NIXTLA_ID_AS_COL` environment variable to adopt the new behavior and to suppress this warning.\n",
      "  warnings.warn(\n",
      "c:\\Users\\91976\\Desktop\\Forecast_llm_comparison\\.env\\lib\\site-packages\\statsforecast\\core.py:485: FutureWarning: In a future version the predictions will have the id as a column. You can set the `NIXTLA_ID_AS_COL` environment variable to adopt the new behavior and to suppress this warning.\n",
      "  warnings.warn(\n",
      "c:\\Users\\91976\\Desktop\\Forecast_llm_comparison\\.env\\lib\\site-packages\\statsforecast\\core.py:485: FutureWarning: In a future version the predictions will have the id as a column. You can set the `NIXTLA_ID_AS_COL` environment variable to adopt the new behavior and to suppress this warning.\n",
      "  warnings.warn(\n",
      "c:\\Users\\91976\\Desktop\\Forecast_llm_comparison\\.env\\lib\\site-packages\\statsforecast\\core.py:485: FutureWarning: In a future version the predictions will have the id as a column. You can set the `NIXTLA_ID_AS_COL` environment variable to adopt the new behavior and to suppress this warning.\n",
      "  warnings.warn(\n",
      "c:\\Users\\91976\\Desktop\\Forecast_llm_comparison\\.env\\lib\\site-packages\\statsforecast\\core.py:485: FutureWarning: In a future version the predictions will have the id as a column. You can set the `NIXTLA_ID_AS_COL` environment variable to adopt the new behavior and to suppress this warning.\n",
      "  warnings.warn(\n",
      "c:\\Users\\91976\\Desktop\\Forecast_llm_comparison\\.env\\lib\\site-packages\\statsforecast\\core.py:485: FutureWarning: In a future version the predictions will have the id as a column. You can set the `NIXTLA_ID_AS_COL` environment variable to adopt the new behavior and to suppress this warning.\n",
      "  warnings.warn(\n",
      "c:\\Users\\91976\\Desktop\\Forecast_llm_comparison\\.env\\lib\\site-packages\\statsforecast\\core.py:485: FutureWarning: In a future version the predictions will have the id as a column. You can set the `NIXTLA_ID_AS_COL` environment variable to adopt the new behavior and to suppress this warning.\n",
      "  warnings.warn(\n",
      "c:\\Users\\91976\\Desktop\\Forecast_llm_comparison\\.env\\lib\\site-packages\\statsforecast\\core.py:485: FutureWarning: In a future version the predictions will have the id as a column. You can set the `NIXTLA_ID_AS_COL` environment variable to adopt the new behavior and to suppress this warning.\n",
      "  warnings.warn(\n",
      "c:\\Users\\91976\\Desktop\\Forecast_llm_comparison\\.env\\lib\\site-packages\\statsforecast\\core.py:485: FutureWarning: In a future version the predictions will have the id as a column. You can set the `NIXTLA_ID_AS_COL` environment variable to adopt the new behavior and to suppress this warning.\n",
      "  warnings.warn(\n",
      "c:\\Users\\91976\\Desktop\\Forecast_llm_comparison\\.env\\lib\\site-packages\\statsforecast\\core.py:485: FutureWarning: In a future version the predictions will have the id as a column. You can set the `NIXTLA_ID_AS_COL` environment variable to adopt the new behavior and to suppress this warning.\n",
      "  warnings.warn(\n",
      "c:\\Users\\91976\\Desktop\\Forecast_llm_comparison\\.env\\lib\\site-packages\\statsforecast\\core.py:485: FutureWarning: In a future version the predictions will have the id as a column. You can set the `NIXTLA_ID_AS_COL` environment variable to adopt the new behavior and to suppress this warning.\n",
      "  warnings.warn(\n",
      "c:\\Users\\91976\\Desktop\\Forecast_llm_comparison\\.env\\lib\\site-packages\\statsforecast\\core.py:485: FutureWarning: In a future version the predictions will have the id as a column. You can set the `NIXTLA_ID_AS_COL` environment variable to adopt the new behavior and to suppress this warning.\n",
      "  warnings.warn(\n",
      "c:\\Users\\91976\\Desktop\\Forecast_llm_comparison\\.env\\lib\\site-packages\\statsforecast\\core.py:485: FutureWarning: In a future version the predictions will have the id as a column. You can set the `NIXTLA_ID_AS_COL` environment variable to adopt the new behavior and to suppress this warning.\n",
      "  warnings.warn(\n",
      "c:\\Users\\91976\\Desktop\\Forecast_llm_comparison\\.env\\lib\\site-packages\\statsforecast\\core.py:485: FutureWarning: In a future version the predictions will have the id as a column. You can set the `NIXTLA_ID_AS_COL` environment variable to adopt the new behavior and to suppress this warning.\n",
      "  warnings.warn(\n",
      "c:\\Users\\91976\\Desktop\\Forecast_llm_comparison\\.env\\lib\\site-packages\\statsforecast\\core.py:485: FutureWarning: In a future version the predictions will have the id as a column. You can set the `NIXTLA_ID_AS_COL` environment variable to adopt the new behavior and to suppress this warning.\n",
      "  warnings.warn(\n",
      "c:\\Users\\91976\\Desktop\\Forecast_llm_comparison\\.env\\lib\\site-packages\\statsforecast\\core.py:485: FutureWarning: In a future version the predictions will have the id as a column. You can set the `NIXTLA_ID_AS_COL` environment variable to adopt the new behavior and to suppress this warning.\n",
      "  warnings.warn(\n"
     ]
    }
   ],
   "source": [
    "import time\n",
    "models = [\n",
    "    Naive(),\n",
    "    SeasonalNaive(12),\n",
    "    ARIMA(order=[12,1,0]),\n",
    "    ARIMA(order=[0,1,1], seasonal_order=[0,1,1], season_length=12 ,alias='SARIMA'),\n",
    "    SimpleExponentialSmoothing(alpha=0.28),\n",
    "    ETS(model='AAA',season_length=12),\n",
    "    HistoricAverage(),\n",
    "    WindowAverage(window_size=6),\n",
    "    AutoARIMA(max_p=12),\n",
    "    AutoETS(season_length=12),\n",
    "    AutoCES(season_length=12,alias='AutoCES'),\n",
    "    AutoTheta(season_length=12)\n",
    "]\n",
    "\n",
    "error_dfs = []\n",
    "\n",
    "for model in models:\n",
    "    for horizon in forecast_horizon:\n",
    "        df_forecast_model = pd.DataFrame()\n",
    "        total_train_time = 0\n",
    "        combined_forecasts = pd.DataFrame()\n",
    "\n",
    "        for start in range(0, test_size_total, horizon):\n",
    "            end = start + horizon\n",
    "            train_size = train_size_total + start\n",
    "            train = df[:train_size]\n",
    "            test = df[train_size:train_size + horizon]\n",
    "            sf = StatsForecast(\n",
    "                models=[model],\n",
    "                freq='ME',\n",
    "                n_jobs=-1,\n",
    "            )\n",
    "\n",
    "            start_time = time.time()\n",
    "            forecasts_df = sf.forecast(df=train, h=horizon)\n",
    "            train_time = time.time() - start_time\n",
    "\n",
    "            forecasts_df['origin'] = train_size  # Track the forecast origin point\n",
    "            combined_forecasts = pd.concat([combined_forecasts, forecasts_df])\n",
    "            total_train_time += train_time\n",
    "        \n",
    "            \n",
    "        # Calculate errors for the combined forecast\n",
    "        combined_error_statsforecast = calculate_errors(test_total, combined_forecasts.drop(columns=['origin']), train_total)\n",
    "        \n",
    "        combined_error_statsforecast['Total_Train_Time'] = total_train_time\n",
    "        combined_error_statsforecast['Horizon'] = horizon\n",
    "        combined_error_statsforecast['Model'] = str(model)\n",
    "        error_dfs.append(combined_error_statsforecast)\n",
    "\n",
    "# Combine all errors into a single DataFrame\n",
    "Error_statstical = pd.concat(error_dfs).reset_index(drop=True)"
   ]
  },
  {
   "cell_type": "code",
   "execution_count": 22,
   "metadata": {},
   "outputs": [],
   "source": [
    "@njit\n",
    "def rolling_mean_12(x):\n",
    "    return rolling_mean(x, window_size=12)\n",
    "\n",
    "\n",
    "def month_index(times):\n",
    "    return times.month"
   ]
  },
  {
   "cell_type": "code",
   "execution_count": 23,
   "metadata": {},
   "outputs": [],
   "source": [
    "lgb_params = {'verbosity': -1,'num_leaves': 512,}\n",
    "\n",
    "catboost_params ={'subsample': 0.6 , 'iterations': 50, 'depth': 5, 'verbose':0}\n",
    "\n",
    "xgboost_params ={'verbosity':0, 'max_depth':5 , 'subsample': 0.6}\n",
    "\n",
    "randomforest_params = {'verbose': 0, 'max_depth': 5}\n",
    "models={\n",
    "        'LightGBM': lgb.LGBMRegressor(**lgb_params),\n",
    "        'CatBoost': CatBoostRegressor(**catboost_params),\n",
    "        'XgBoost': XGBRegressor(**xgboost_params),\n",
    "        'RandomForest': RandomForestRegressor(**randomforest_params)\n",
    "    }\n"
   ]
  },
  {
   "cell_type": "code",
   "execution_count": 24,
   "metadata": {},
   "outputs": [],
   "source": [
    "\n",
    "lgb_params = {'verbosity': -1,'num_leaves': 512,}\n",
    "\n",
    "catboost_params ={'subsample': 0.6 , 'iterations': 50, 'depth': 5, 'verbose':0}\n",
    "\n",
    "xgboost_params ={'verbosity':0, 'max_depth':5 , 'subsample': 0.6}\n",
    "\n",
    "randomforest_params = {'verbose': 0, 'max_depth': 5}\n",
    "models={\n",
    "        'LightGBM': lgb.LGBMRegressor(**lgb_params),\n",
    "        'CatBoost': CatBoostRegressor(**catboost_params),\n",
    "        'XgBoost': XGBRegressor(**xgboost_params),\n",
    "        'RandomForest': RandomForestRegressor(**randomforest_params)\n",
    "    }\n",
    "\n",
    "for alias,model in models.items():\n",
    "    for horizon in forecast_horizon:\n",
    "        df_forecast_model = pd.DataFrame()\n",
    "        total_train_time = 0\n",
    "        combined_forecasts = pd.DataFrame()\n",
    "\n",
    "        for start in range(0, test_size_total, horizon):\n",
    "            end = start + horizon\n",
    "            train_size = train_size_total + start\n",
    "            train = df[:train_size]\n",
    "            test = df[train_size:train_size + horizon]\n",
    "            \n",
    "            fcst = MLForecast(\n",
    "                models = {alias:model,},\n",
    "                freq=\"ME\",\n",
    "                target_transforms=[Differences([12])],    \n",
    "                lags= [1,2,3,4,11,12],\n",
    "                lag_transforms={\n",
    "                    1: [ExpandingMean()],\n",
    "                    12: [RollingMean(window_size=12), rolling_mean_12],\n",
    "                },\n",
    "                date_features=[month_index],\n",
    "            )\n",
    "\n",
    "            start_time = time.time()\n",
    "            prep = fcst.preprocess(train)\n",
    "            fcst.fit(train)\n",
    "            forecasts_df = fcst.predict(h=horizon)\n",
    "            train_time = time.time() - start_time\n",
    "\n",
    "            forecasts_df['origin'] = train_size  # Track the forecast origin point\n",
    "            combined_forecasts = pd.concat([combined_forecasts, forecasts_df])\n",
    "            total_train_time += train_time\n",
    "        \n",
    "            \n",
    "        # Calculate errors for the combined forecast\n",
    "        combined_error_statsforecast = calculate_errors(test_total, combined_forecasts.drop(columns=['origin']), train_total)\n",
    "        \n",
    "        combined_error_statsforecast['Total_Train_Time'] = total_train_time\n",
    "        combined_error_statsforecast['Horizon'] = horizon\n",
    "        combined_error_statsforecast['Model'] = alias\n",
    "        error_dfs.append(combined_error_statsforecast)\n",
    "\n",
    "# Combine all errors into a single DataFrame\n",
    "Error_Tree = pd.concat(error_dfs).reset_index(drop=True)"
   ]
  },
  {
   "cell_type": "code",
   "execution_count": 25,
   "metadata": {},
   "outputs": [
    {
     "data": {
      "text/html": [
       "<div>\n",
       "<style scoped>\n",
       "    .dataframe tbody tr th:only-of-type {\n",
       "        vertical-align: middle;\n",
       "    }\n",
       "\n",
       "    .dataframe tbody tr th {\n",
       "        vertical-align: top;\n",
       "    }\n",
       "\n",
       "    .dataframe thead th {\n",
       "        text-align: right;\n",
       "    }\n",
       "</style>\n",
       "<table border=\"1\" class=\"dataframe\">\n",
       "  <thead>\n",
       "    <tr style=\"text-align: right;\">\n",
       "      <th></th>\n",
       "      <th>RMSE</th>\n",
       "      <th>SMAPE</th>\n",
       "      <th>RMSSE</th>\n",
       "      <th>Total_Train_Time</th>\n",
       "      <th>Horizon</th>\n",
       "      <th>Model</th>\n",
       "    </tr>\n",
       "  </thead>\n",
       "  <tbody>\n",
       "    <tr>\n",
       "      <th>0</th>\n",
       "      <td>137.328985</td>\n",
       "      <td>6.937759</td>\n",
       "      <td>4.801815</td>\n",
       "      <td>0.000000</td>\n",
       "      <td>24</td>\n",
       "      <td>Naive</td>\n",
       "    </tr>\n",
       "    <tr>\n",
       "      <th>1</th>\n",
       "      <td>62.552311</td>\n",
       "      <td>2.837492</td>\n",
       "      <td>2.187191</td>\n",
       "      <td>0.030835</td>\n",
       "      <td>3</td>\n",
       "      <td>Naive</td>\n",
       "    </tr>\n",
       "    <tr>\n",
       "      <th>2</th>\n",
       "      <td>77.368167</td>\n",
       "      <td>3.688349</td>\n",
       "      <td>2.705239</td>\n",
       "      <td>0.015018</td>\n",
       "      <td>6</td>\n",
       "      <td>Naive</td>\n",
       "    </tr>\n",
       "    <tr>\n",
       "      <th>3</th>\n",
       "      <td>108.203127</td>\n",
       "      <td>4.838893</td>\n",
       "      <td>3.783407</td>\n",
       "      <td>0.016149</td>\n",
       "      <td>12</td>\n",
       "      <td>Naive</td>\n",
       "    </tr>\n",
       "    <tr>\n",
       "      <th>4</th>\n",
       "      <td>76.994589</td>\n",
       "      <td>4.253156</td>\n",
       "      <td>2.692176</td>\n",
       "      <td>0.000000</td>\n",
       "      <td>24</td>\n",
       "      <td>SeasonalNaive</td>\n",
       "    </tr>\n",
       "    <tr>\n",
       "      <th>...</th>\n",
       "      <td>...</td>\n",
       "      <td>...</td>\n",
       "      <td>...</td>\n",
       "      <td>...</td>\n",
       "      <td>...</td>\n",
       "      <td>...</td>\n",
       "    </tr>\n",
       "    <tr>\n",
       "      <th>59</th>\n",
       "      <td>16.963066</td>\n",
       "      <td>0.835843</td>\n",
       "      <td>0.593127</td>\n",
       "      <td>0.248883</td>\n",
       "      <td>12</td>\n",
       "      <td>XgBoost</td>\n",
       "    </tr>\n",
       "    <tr>\n",
       "      <th>60</th>\n",
       "      <td>37.899424</td>\n",
       "      <td>2.002011</td>\n",
       "      <td>1.325183</td>\n",
       "      <td>0.268242</td>\n",
       "      <td>24</td>\n",
       "      <td>RandomForest</td>\n",
       "    </tr>\n",
       "    <tr>\n",
       "      <th>61</th>\n",
       "      <td>23.136272</td>\n",
       "      <td>1.055906</td>\n",
       "      <td>0.808978</td>\n",
       "      <td>1.217131</td>\n",
       "      <td>3</td>\n",
       "      <td>RandomForest</td>\n",
       "    </tr>\n",
       "    <tr>\n",
       "      <th>62</th>\n",
       "      <td>22.665763</td>\n",
       "      <td>1.150651</td>\n",
       "      <td>0.792526</td>\n",
       "      <td>0.847048</td>\n",
       "      <td>6</td>\n",
       "      <td>RandomForest</td>\n",
       "    </tr>\n",
       "    <tr>\n",
       "      <th>63</th>\n",
       "      <td>31.782303</td>\n",
       "      <td>1.582561</td>\n",
       "      <td>1.111293</td>\n",
       "      <td>0.461005</td>\n",
       "      <td>12</td>\n",
       "      <td>RandomForest</td>\n",
       "    </tr>\n",
       "  </tbody>\n",
       "</table>\n",
       "<p>64 rows × 6 columns</p>\n",
       "</div>"
      ],
      "text/plain": [
       "          RMSE     SMAPE     RMSSE  Total_Train_Time  Horizon          Model\n",
       "0   137.328985  6.937759  4.801815          0.000000       24          Naive\n",
       "1    62.552311  2.837492  2.187191          0.030835        3          Naive\n",
       "2    77.368167  3.688349  2.705239          0.015018        6          Naive\n",
       "3   108.203127  4.838893  3.783407          0.016149       12          Naive\n",
       "4    76.994589  4.253156  2.692176          0.000000       24  SeasonalNaive\n",
       "..         ...       ...       ...               ...      ...            ...\n",
       "59   16.963066  0.835843  0.593127          0.248883       12        XgBoost\n",
       "60   37.899424  2.002011  1.325183          0.268242       24   RandomForest\n",
       "61   23.136272  1.055906  0.808978          1.217131        3   RandomForest\n",
       "62   22.665763  1.150651  0.792526          0.847048        6   RandomForest\n",
       "63   31.782303  1.582561  1.111293          0.461005       12   RandomForest\n",
       "\n",
       "[64 rows x 6 columns]"
      ]
     },
     "execution_count": 25,
     "metadata": {},
     "output_type": "execute_result"
    }
   ],
   "source": [
    "Error_Tree"
   ]
  },
  {
   "cell_type": "code",
   "execution_count": 26,
   "metadata": {},
   "outputs": [
    {
     "name": "stderr",
     "output_type": "stream",
     "text": [
      "Seed set to 1\n",
      "Seed set to 1\n",
      "c:\\Users\\91976\\Desktop\\Forecast_llm_comparison\\.env\\lib\\site-packages\\pytorch_lightning\\utilities\\parsing.py:199: Attribute 'loss' is an instance of `nn.Module` and is already saved during checkpointing. It is recommended to ignore them using `self.save_hyperparameters(ignore=['loss'])`.\n",
      "c:\\Users\\91976\\Desktop\\Forecast_llm_comparison\\.env\\lib\\site-packages\\pytorch_lightning\\utilities\\parsing.py:199: Attribute 'valid_loss' is an instance of `nn.Module` and is already saved during checkpointing. It is recommended to ignore them using `self.save_hyperparameters(ignore=['valid_loss'])`.\n"
     ]
    }
   ],
   "source": [
    "from ray import tune\n",
    "neural_models = [\n",
    "    NBEATS(input_size=2 * test_size_total, h=test_size_total, max_steps=50),\n",
    "    NHITS(input_size=2 * test_size_total, h=test_size_total, max_steps=50),\n",
    "    AutoMLP(config=dict(max_steps=20, input_size=tune.choice([3 * test_size_total]), learning_rate=tune.choice([1e-3])), h=test_size_total, num_samples=1, cpus=3),\n",
    "    AutoDeepAR(config=dict(max_steps=5, input_size=tune.choice([3 * test_size_total]), learning_rate=tune.choice([1e-3])), h=test_size_total, num_samples=1, cpus=3),\n",
    "    AutoNBEATS(config=dict(max_steps=20, input_size=tune.choice([3 * test_size_total]), learning_rate=tune.choice([1e-3])), h=test_size_total, num_samples=1, cpus=3),\n",
    "    AutoNHITS(config=dict(max_steps=20, input_size=tune.choice([3 * test_size_total]), learning_rate=tune.choice([1e-3])), h=test_size_total, num_samples=1, cpus=3),\n",
    "    AutoTFT(config=dict(max_steps=20, input_size=tune.choice([3 * test_size_total]), learning_rate=tune.choice([1e-3])), h=test_size_total, num_samples=1, cpus=3)\n",
    "]\n",
    "\n",
    "# #AutoMLP, AutoDeepAR, AutoNBEATS, AutoNHITS, AutoTFT , AutoDeepNPTS\n",
    "# nf = NeuralForecast(models=models, freq='M')\n",
    "\n",
    "# nf.fit(df=train,)\n",
    "# forecasts_df_neural = nf.predict().reset_index()\n",
    "\n",
    "# error_neural = calculate_errors(test,forecasts_df_neural,train)\n"
   ]
  },
  {
   "cell_type": "code",
   "execution_count": 27,
   "metadata": {},
   "outputs": [
    {
     "data": {
      "text/html": [],
      "text/plain": [
       "<IPython.core.display.HTML object>"
      ]
     },
     "metadata": {},
     "output_type": "display_data"
    },
    {
     "name": "stderr",
     "output_type": "stream",
     "text": [
      "\u001b[36m(_train_tune pid=25440)\u001b[0m c:\\Users\\91976\\Desktop\\Forecast_llm_comparison\\.env\\lib\\site-packages\\ray\\tune\\integration\\pytorch_lightning.py:198: `ray.tune.integration.pytorch_lightning.TuneReportCallback` is deprecated. Use `ray.tune.integration.pytorch_lightning.TuneReportCheckpointCallback` instead.\n",
      "\u001b[36m(_train_tune pid=25440)\u001b[0m Seed set to 1\n",
      "\u001b[36m(_train_tune pid=25440)\u001b[0m c:\\Users\\91976\\Desktop\\Forecast_llm_comparison\\.env\\lib\\site-packages\\torch\\nn\\init.py:452: UserWarning: Initializing zero-element tensors is a no-op\n",
      "\u001b[36m(_train_tune pid=25440)\u001b[0m   warnings.warn(\"Initializing zero-element tensors is a no-op\")\n",
      "\u001b[36m(_train_tune pid=25440)\u001b[0m c:\\Users\\91976\\Desktop\\Forecast_llm_comparison\\.env\\lib\\site-packages\\neuralforecast\\common\\_base_model.py:208: UserWarning: val_check_steps is greater than max_steps, setting val_check_steps to max_steps.\n",
      "\u001b[36m(_train_tune pid=25440)\u001b[0m   warnings.warn(\n",
      "\u001b[36m(_train_tune pid=25440)\u001b[0m GPU available: False, used: False\n",
      "\u001b[36m(_train_tune pid=25440)\u001b[0m TPU available: False, using: 0 TPU cores\n",
      "\u001b[36m(_train_tune pid=25440)\u001b[0m IPU available: False, using: 0 IPUs\n",
      "\u001b[36m(_train_tune pid=25440)\u001b[0m HPU available: False, using: 0 HPUs\n",
      "\u001b[36m(_train_tune pid=25440)\u001b[0m Missing logger folder: C:\\Users\\91976\\AppData\\Local\\Temp\\ray\\session_2024-07-07_01-18-42_366599_23964\\artifacts\\2024-07-07_02-37-20\\_train_tune_2024-07-07_02-37-19\\working_dirs\\_train_tune_bb620_00000\\lightning_logs\n",
      "\u001b[36m(_train_tune pid=25440)\u001b[0m 2024-07-07 02:37:28.471930: I tensorflow/core/util/port.cc:113] oneDNN custom operations are on. You may see slightly different numerical results due to floating-point round-off errors from different computation orders. To turn them off, set the environment variable `TF_ENABLE_ONEDNN_OPTS=0`.\n",
      "\u001b[36m(_train_tune pid=25440)\u001b[0m 2024-07-07 02:37:29.396894: I tensorflow/core/util/port.cc:113] oneDNN custom operations are on. You may see slightly different numerical results due to floating-point round-off errors from different computation orders. To turn them off, set the environment variable `TF_ENABLE_ONEDNN_OPTS=0`.\n",
      "\u001b[36m(_train_tune pid=25440)\u001b[0m \n",
      "\u001b[36m(_train_tune pid=25440)\u001b[0m   | Name                    | Type                     | Params\n",
      "\u001b[36m(_train_tune pid=25440)\u001b[0m ---------------------------------------------------------------------\n",
      "\u001b[36m(_train_tune pid=25440)\u001b[0m 0 | loss                    | MAE                      | 0     \n",
      "\u001b[36m(_train_tune pid=25440)\u001b[0m 1 | padder_train            | ConstantPad1d            | 0     \n",
      "\u001b[36m(_train_tune pid=25440)\u001b[0m 2 | scaler                  | TemporalNorm             | 0     \n",
      "\u001b[36m(_train_tune pid=25440)\u001b[0m 3 | embedding               | TFTEmbedding             | 512   \n",
      "\u001b[36m(_train_tune pid=25440)\u001b[0m 4 | static_encoder          | StaticCovariateEncoder   | 331 K \n",
      "\u001b[36m(_train_tune pid=25440)\u001b[0m 5 | temporal_encoder        | TemporalCovariateEncoder | 613 K \n",
      "\u001b[36m(_train_tune pid=25440)\u001b[0m 6 | temporal_fusion_decoder | TemporalFusionDecoder    | 256 K \n",
      "\u001b[36m(_train_tune pid=25440)\u001b[0m 7 | output_adapter          | Linear                   | 129   \n",
      "\u001b[36m(_train_tune pid=25440)\u001b[0m ---------------------------------------------------------------------\n",
      "\u001b[36m(_train_tune pid=25440)\u001b[0m 1.2 M     Trainable params\n",
      "\u001b[36m(_train_tune pid=25440)\u001b[0m 0         Non-trainable params\n",
      "\u001b[36m(_train_tune pid=25440)\u001b[0m 1.2 M     Total params\n",
      "\u001b[36m(_train_tune pid=25440)\u001b[0m 4.807     Total estimated model params size (MB)\n"
     ]
    },
    {
     "name": "stdout",
     "output_type": "stream",
     "text": [
      "Sanity Checking DataLoader 0:   0%|          | 0/1 [00:00<?, ?it/s]\n",
      "Epoch 0:   0%|          | 0/1 [00:00<?, ?it/s]                             \n",
      "Epoch 1:   0%|          | 0/1 [00:00<?, ?it/s, v_num=0, train_loss_step=3.980, train_loss_epoch=3.980]        \n",
      "Epoch 2:   0%|          | 0/1 [00:00<?, ?it/s, v_num=0, train_loss_step=2.920, train_loss_epoch=2.920]        \n",
      "Epoch 3:   0%|          | 0/1 [00:00<?, ?it/s, v_num=0, train_loss_step=1.920, train_loss_epoch=1.920]        \n",
      "Epoch 4:   0%|          | 0/1 [00:00<?, ?it/s, v_num=0, train_loss_step=1.270, train_loss_epoch=1.270]        \n",
      "Epoch 5:   0%|          | 0/1 [00:00<?, ?it/s, v_num=0, train_loss_step=1.200, train_loss_epoch=1.200]        \n",
      "Epoch 6:   0%|          | 0/1 [00:00<?, ?it/s, v_num=0, train_loss_step=1.320, train_loss_epoch=1.320]        \n",
      "Epoch 7:   0%|          | 0/1 [00:00<?, ?it/s, v_num=0, train_loss_step=1.390, train_loss_epoch=1.390]        \n",
      "Epoch 8:   0%|          | 0/1 [00:00<?, ?it/s, v_num=0, train_loss_step=1.400, train_loss_epoch=1.400]        \n",
      "Epoch 9:   0%|          | 0/1 [00:00<?, ?it/s, v_num=0, train_loss_step=1.340, train_loss_epoch=1.340]        \n",
      "Epoch 10:   0%|          | 0/1 [00:00<?, ?it/s, v_num=0, train_loss_step=1.280, train_loss_epoch=1.280]       \n",
      "Epoch 11:   0%|          | 0/1 [00:00<?, ?it/s, v_num=0, train_loss_step=1.220, train_loss_epoch=1.220]        \n",
      "Epoch 12:   0%|          | 0/1 [00:00<?, ?it/s, v_num=0, train_loss_step=1.170, train_loss_epoch=1.170]        \n",
      "Epoch 12: 100%|██████████| 1/1 [00:05<00:00,  0.17it/s, v_num=0, train_loss_step=1.190, train_loss_epoch=1.190]\n",
      "Epoch 13:   0%|          | 0/1 [00:00<?, ?it/s, v_num=0, train_loss_step=1.190, train_loss_epoch=1.190]        \n",
      "Epoch 14:   0%|          | 0/1 [00:00<?, ?it/s, v_num=0, train_loss_step=1.220, train_loss_epoch=1.220]        \n",
      "Epoch 15:   0%|          | 0/1 [00:00<?, ?it/s, v_num=0, train_loss_step=1.250, train_loss_epoch=1.250]        \n",
      "Epoch 16:   0%|          | 0/1 [00:00<?, ?it/s, v_num=0, train_loss_step=1.230, train_loss_epoch=1.230]        \n",
      "Epoch 17:   0%|          | 0/1 [00:00<?, ?it/s, v_num=0, train_loss_step=1.180, train_loss_epoch=1.180]        \n",
      "Epoch 18:   0%|          | 0/1 [00:00<?, ?it/s, v_num=0, train_loss_step=1.180, train_loss_epoch=1.180]        \n",
      "Epoch 19:   0%|          | 0/1 [00:00<?, ?it/s, v_num=0, train_loss_step=1.180, train_loss_epoch=1.180]        \n"
     ]
    },
    {
     "name": "stderr",
     "output_type": "stream",
     "text": [
      "2024-07-07 02:39:32,216\tWARNING experiment_state.py:205 -- Experiment state snapshotting has been triggered multiple times in the last 5.0 seconds. A snapshot is forced if `CheckpointConfig(num_to_keep)` is set, and a trial has checkpointed >= `num_to_keep` times since the last snapshot.\n",
      "You may want to consider increasing the `CheckpointConfig(num_to_keep)` or decreasing the frequency of saving checkpoints.\n",
      "You can suppress this error by setting the environment variable TUNE_WARN_EXCESSIVE_EXPERIMENT_CHECKPOINT_SYNC_THRESHOLD_S to a smaller value than the current threshold (5.0).\n",
      "2024-07-07 02:39:32,220\tINFO tune.py:1007 -- Wrote the latest version of all result files and experiment state to 'C:/Users/91976/ray_results/_train_tune_2024-07-07_02-37-19' in 0.0111s.\n",
      "Seed set to 1\n",
      "c:\\Users\\91976\\Desktop\\Forecast_llm_comparison\\.env\\lib\\site-packages\\torch\\nn\\init.py:452: UserWarning: Initializing zero-element tensors is a no-op\n",
      "  warnings.warn(\"Initializing zero-element tensors is a no-op\")\n",
      "\u001b[36m(_train_tune pid=25440)\u001b[0m `Trainer.fit` stopped: `max_steps=20` reached.\n",
      "c:\\Users\\91976\\Desktop\\Forecast_llm_comparison\\.env\\lib\\site-packages\\neuralforecast\\common\\_base_model.py:208: UserWarning: val_check_steps is greater than max_steps, setting val_check_steps to max_steps.\n",
      "  warnings.warn(\n",
      "GPU available: False, used: False\n",
      "TPU available: False, using: 0 TPU cores\n",
      "IPU available: False, using: 0 IPUs\n",
      "HPU available: False, using: 0 HPUs\n",
      "\n",
      "  | Name                    | Type                     | Params\n",
      "---------------------------------------------------------------------\n",
      "0 | loss                    | MAE                      | 0     \n",
      "1 | padder_train            | ConstantPad1d            | 0     \n",
      "2 | scaler                  | TemporalNorm             | 0     \n",
      "3 | embedding               | TFTEmbedding             | 512   \n",
      "4 | static_encoder          | StaticCovariateEncoder   | 331 K \n",
      "5 | temporal_encoder        | TemporalCovariateEncoder | 613 K \n",
      "6 | temporal_fusion_decoder | TemporalFusionDecoder    | 256 K \n",
      "7 | output_adapter          | Linear                   | 129   \n",
      "---------------------------------------------------------------------\n",
      "1.2 M     Trainable params\n",
      "0         Non-trainable params\n",
      "1.2 M     Total params\n",
      "4.807     Total estimated model params size (MB)\n"
     ]
    },
    {
     "name": "stdout",
     "output_type": "stream",
     "text": [
      "Epoch 19: 100%|██████████| 1/1 [00:06<00:00,  0.16it/s, v_num=0, train_loss_step=1.180, train_loss_epoch=1.180]\n",
      "Validation: |          | 0/? [00:00<?, ?it/s]\u001b[A\n",
      "Validation:   0%|          | 0/1 [00:00<?, ?it/s]\u001b[A\n",
      "Validation DataLoader 0:   0%|          | 0/1 [00:00<?, ?it/s]\u001b[A\n",
      "Validation DataLoader 0: 100%|██████████| 1/1 [00:00<00:00, 70.71it/s]\u001b[A\n",
      "Epoch 19: 100%|██████████| 1/1 [00:06<00:00,  0.16it/s, v_num=0, train_loss_step=1.180, train_loss_epoch=1.180, valid_loss=67.40]\n"
     ]
    },
    {
     "data": {
      "application/vnd.jupyter.widget-view+json": {
       "model_id": "2811d214db82462dbc4888b2d89d7cc4",
       "version_major": 2,
       "version_minor": 0
      },
      "text/plain": [
       "Sanity Checking: |          | 0/? [00:00<?, ?it/s]"
      ]
     },
     "metadata": {},
     "output_type": "display_data"
    },
    {
     "data": {
      "application/vnd.jupyter.widget-view+json": {
       "model_id": "f73bd4153a944e38a59a30694958e051",
       "version_major": 2,
       "version_minor": 0
      },
      "text/plain": [
       "Training: |          | 0/? [00:00<?, ?it/s]"
      ]
     },
     "metadata": {},
     "output_type": "display_data"
    },
    {
     "data": {
      "application/vnd.jupyter.widget-view+json": {
       "model_id": "43d2c0ed925e48e7b227b15bb35a7e5b",
       "version_major": 2,
       "version_minor": 0
      },
      "text/plain": [
       "Validation: |          | 0/? [00:00<?, ?it/s]"
      ]
     },
     "metadata": {},
     "output_type": "display_data"
    },
    {
     "name": "stderr",
     "output_type": "stream",
     "text": [
      "`Trainer.fit` stopped: `max_steps=20` reached.\n",
      "GPU available: False, used: False\n",
      "TPU available: False, using: 0 TPU cores\n",
      "IPU available: False, using: 0 IPUs\n",
      "HPU available: False, using: 0 HPUs\n"
     ]
    },
    {
     "data": {
      "application/vnd.jupyter.widget-view+json": {
       "model_id": "0f5fee565eb54f8ca9f4d77198765ce9",
       "version_major": 2,
       "version_minor": 0
      },
      "text/plain": [
       "Predicting: |          | 0/? [00:00<?, ?it/s]"
      ]
     },
     "metadata": {},
     "output_type": "display_data"
    },
    {
     "name": "stderr",
     "output_type": "stream",
     "text": [
      "c:\\Users\\91976\\Desktop\\Forecast_llm_comparison\\.env\\lib\\site-packages\\neuralforecast\\core.py:196: FutureWarning: In a future version the predictions will have the id as a column. You can set the `NIXTLA_ID_AS_COL` environment variable to adopt the new behavior and to suppress this warning.\n",
      "  warnings.warn(\n"
     ]
    },
    {
     "name": "stdout",
     "output_type": "stream",
     "text": [
      "           RMSE     SMAPE     RMSSE  Total_Train_Time  Horizon          Model\n",
      "0    137.328985  6.937759  4.801815          0.000000       24          Naive\n",
      "1     62.552311  2.837492  2.187191          0.030835        3          Naive\n",
      "2     77.368167  3.688349  2.705239          0.015018        6          Naive\n",
      "3    108.203127  4.838893  3.783407          0.016149       12          Naive\n",
      "4     76.994589  4.253156  2.692176          0.000000       24  SeasonalNaive\n",
      "..          ...       ...       ...               ...      ...            ...\n",
      "107   49.404549  2.294722  1.727469         36.422247       12      AutoNHITS\n",
      "108   82.039027  3.978888  2.868559        259.732192       24        AutoTFT\n",
      "109   83.678559  3.973067  2.925886       2060.273209        3        AutoTFT\n",
      "110   88.133577  4.244692  3.081660       1033.758155        6        AutoTFT\n",
      "111   89.099215  4.338557  3.115424        501.649775       12        AutoTFT\n",
      "\n",
      "[112 rows x 6 columns]\n"
     ]
    }
   ],
   "source": [
    "# error_dfs=[]\n",
    "for model in neural_models:\n",
    "    print(f\"------------{model}------------\")\n",
    "    for horizon in forecast_horizon:\n",
    "        total_train_time = 0\n",
    "        combined_forecasts = pd.DataFrame()\n",
    "\n",
    "        for start in range(0, test_size_total, horizon):\n",
    "            end = start + horizon\n",
    "            train_size = train_size_total + start\n",
    "            train = df[:train_size]\n",
    "            test = df[train_size:train_size + horizon]\n",
    "            \n",
    "            nf = NeuralForecast(models=[model], freq='ME')\n",
    "\n",
    "            start_time = time.time()\n",
    "            nf.fit(df=train)\n",
    "            forecasts_df_neural = nf.predict().reset_index()\n",
    "            train_time = time.time() - start_time\n",
    "            forecasts_df_neural = forecasts_df_neural[:horizon]\n",
    "            forecasts_df_neural['origin'] = train_size  # Track the forecast origin point\n",
    "            combined_forecasts = pd.concat([combined_forecasts, forecasts_df_neural])\n",
    "            total_train_time += train_time\n",
    "\n",
    "        # Calculate errors for the combined forecast\n",
    "        combined_error_statsforecast = calculate_errors(test_total, combined_forecasts.drop(columns=['origin']), train_total)\n",
    "        combined_error_statsforecast['Total_Train_Time'] = total_train_time\n",
    "        combined_error_statsforecast['Horizon'] = horizon\n",
    "        combined_error_statsforecast['Model'] = type(model).__name__\n",
    "        error_dfs.append(combined_error_statsforecast)\n",
    "\n",
    "# Combine all errors into a single DataFrame\n",
    "all_errors = pd.concat(error_dfs).reset_index(drop=True)\n",
    "print(all_errors)"
   ]
  },
  {
   "cell_type": "code",
   "execution_count": 28,
   "metadata": {},
   "outputs": [],
   "source": [
    "from nixtla import NixtlaClient\n",
    "nixtla_client = NixtlaClient(\n",
    "    api_key = 'nixtla-tok-BWWtvgUP9FLtzerA90xyzXPvRUoZvA0OYYp5cuSI7NZUyApQjlINlF8dAyYXqDyxWlTlCOg7jXHWJV4o'\n",
    ")"
   ]
  },
  {
   "cell_type": "code",
   "execution_count": 29,
   "metadata": {},
   "outputs": [
    {
     "name": "stderr",
     "output_type": "stream",
     "text": [
      "INFO:nixtla.nixtla_client:Validating inputs...\n",
      "INFO:nixtla.nixtla_client:Preprocessing dataframes...\n",
      "INFO:nixtla.nixtla_client:Inferred freq: ME\n",
      "WARNING:nixtla.nixtla_client:The specified horizon \"h\" exceeds the model horizon. This may lead to less accurate forecasts. Please consider using a smaller horizon.\n",
      "INFO:nixtla.nixtla_client:Restricting input...\n",
      "INFO:nixtla.nixtla_client:Calling Forecast Endpoint...\n",
      "INFO:nixtla.nixtla_client:Validating inputs...\n",
      "INFO:nixtla.nixtla_client:Preprocessing dataframes...\n",
      "INFO:nixtla.nixtla_client:Inferred freq: ME\n",
      "INFO:nixtla.nixtla_client:Restricting input...\n",
      "INFO:nixtla.nixtla_client:Calling Forecast Endpoint...\n",
      "INFO:nixtla.nixtla_client:Validating inputs...\n",
      "INFO:nixtla.nixtla_client:Preprocessing dataframes...\n",
      "INFO:nixtla.nixtla_client:Inferred freq: ME\n",
      "INFO:nixtla.nixtla_client:Restricting input...\n",
      "INFO:nixtla.nixtla_client:Calling Forecast Endpoint...\n",
      "INFO:nixtla.nixtla_client:Validating inputs...\n",
      "INFO:nixtla.nixtla_client:Preprocessing dataframes...\n",
      "INFO:nixtla.nixtla_client:Inferred freq: ME\n",
      "INFO:nixtla.nixtla_client:Restricting input...\n",
      "INFO:nixtla.nixtla_client:Calling Forecast Endpoint...\n",
      "INFO:nixtla.nixtla_client:Validating inputs...\n",
      "INFO:nixtla.nixtla_client:Preprocessing dataframes...\n",
      "INFO:nixtla.nixtla_client:Inferred freq: ME\n",
      "INFO:nixtla.nixtla_client:Restricting input...\n",
      "INFO:nixtla.nixtla_client:Calling Forecast Endpoint...\n",
      "INFO:nixtla.nixtla_client:Validating inputs...\n",
      "INFO:nixtla.nixtla_client:Preprocessing dataframes...\n",
      "INFO:nixtla.nixtla_client:Inferred freq: ME\n",
      "INFO:nixtla.nixtla_client:Restricting input...\n",
      "INFO:nixtla.nixtla_client:Calling Forecast Endpoint...\n",
      "INFO:nixtla.nixtla_client:Validating inputs...\n",
      "INFO:nixtla.nixtla_client:Preprocessing dataframes...\n",
      "INFO:nixtla.nixtla_client:Inferred freq: ME\n",
      "INFO:nixtla.nixtla_client:Restricting input...\n",
      "INFO:nixtla.nixtla_client:Calling Forecast Endpoint...\n",
      "INFO:nixtla.nixtla_client:Validating inputs...\n",
      "INFO:nixtla.nixtla_client:Preprocessing dataframes...\n",
      "INFO:nixtla.nixtla_client:Inferred freq: ME\n",
      "INFO:nixtla.nixtla_client:Restricting input...\n",
      "INFO:nixtla.nixtla_client:Calling Forecast Endpoint...\n",
      "INFO:nixtla.nixtla_client:Validating inputs...\n",
      "INFO:nixtla.nixtla_client:Preprocessing dataframes...\n",
      "INFO:nixtla.nixtla_client:Inferred freq: ME\n",
      "INFO:nixtla.nixtla_client:Restricting input...\n",
      "INFO:nixtla.nixtla_client:Calling Forecast Endpoint...\n",
      "INFO:nixtla.nixtla_client:Validating inputs...\n",
      "INFO:nixtla.nixtla_client:Preprocessing dataframes...\n",
      "INFO:nixtla.nixtla_client:Inferred freq: ME\n",
      "INFO:nixtla.nixtla_client:Restricting input...\n",
      "INFO:nixtla.nixtla_client:Calling Forecast Endpoint...\n",
      "INFO:nixtla.nixtla_client:Validating inputs...\n",
      "INFO:nixtla.nixtla_client:Preprocessing dataframes...\n",
      "INFO:nixtla.nixtla_client:Inferred freq: ME\n",
      "INFO:nixtla.nixtla_client:Restricting input...\n",
      "INFO:nixtla.nixtla_client:Calling Forecast Endpoint...\n",
      "INFO:nixtla.nixtla_client:Validating inputs...\n",
      "INFO:nixtla.nixtla_client:Preprocessing dataframes...\n",
      "INFO:nixtla.nixtla_client:Inferred freq: ME\n",
      "INFO:nixtla.nixtla_client:Restricting input...\n",
      "INFO:nixtla.nixtla_client:Calling Forecast Endpoint...\n",
      "INFO:nixtla.nixtla_client:Validating inputs...\n",
      "INFO:nixtla.nixtla_client:Preprocessing dataframes...\n",
      "INFO:nixtla.nixtla_client:Inferred freq: ME\n",
      "INFO:nixtla.nixtla_client:Restricting input...\n",
      "INFO:nixtla.nixtla_client:Calling Forecast Endpoint...\n",
      "INFO:nixtla.nixtla_client:Validating inputs...\n",
      "INFO:nixtla.nixtla_client:Preprocessing dataframes...\n",
      "INFO:nixtla.nixtla_client:Inferred freq: ME\n",
      "INFO:nixtla.nixtla_client:Restricting input...\n",
      "INFO:nixtla.nixtla_client:Calling Forecast Endpoint...\n",
      "INFO:nixtla.nixtla_client:Validating inputs...\n",
      "INFO:nixtla.nixtla_client:Preprocessing dataframes...\n",
      "INFO:nixtla.nixtla_client:Inferred freq: ME\n",
      "INFO:nixtla.nixtla_client:Restricting input...\n",
      "INFO:nixtla.nixtla_client:Calling Forecast Endpoint...\n"
     ]
    }
   ],
   "source": [
    "# error_dfs = []\n",
    "for horizon in forecast_horizon:\n",
    "    df_forecast_model = pd.DataFrame()\n",
    "    total_train_time = 0\n",
    "    combined_forecasts = pd.DataFrame()\n",
    "\n",
    "    for start in range(0, test_size_total, horizon):\n",
    "        end = start + horizon\n",
    "        train_size = train_size_total + start\n",
    "        train = df[:train_size]\n",
    "        test = df[train_size:train_size + horizon]\n",
    "        sf = StatsForecast(\n",
    "            models=[model],\n",
    "            freq='ME',\n",
    "            n_jobs=-1,\n",
    "        )\n",
    "\n",
    "        start_time = time.time()\n",
    "        forecasts_df = nixtla_client.forecast(df=train, h=horizon, freq='M', time_col='ds', target_col='y')\n",
    "        train_time = time.time() - start_time\n",
    "\n",
    "        forecasts_df['origin'] = train_size  # Track the forecast origin point\n",
    "        combined_forecasts = pd.concat([combined_forecasts, forecasts_df])\n",
    "        total_train_time += train_time\n",
    "    \n",
    "        \n",
    "    # Calculate errors for the combined forecast\n",
    "    combined_error_statsforecast = calculate_errors(test_total, combined_forecasts.drop(columns=['origin']), train_total)\n",
    "    \n",
    "    combined_error_statsforecast['Total_Train_Time'] = total_train_time\n",
    "    combined_error_statsforecast['Horizon'] = horizon\n",
    "    combined_error_statsforecast['Model'] = \"TimeGPT\"\n",
    "    error_dfs.append(combined_error_statsforecast)\n",
    "\n",
    "# Combine all errors into a single DataFrame\n",
    "Error_TimeGPT = pd.concat(error_dfs).reset_index(drop=True)"
   ]
  },
  {
   "cell_type": "code",
   "execution_count": 35,
   "metadata": {},
   "outputs": [],
   "source": [
    "\n",
    "# Sort the DataFrame by the 'Error' column\n",
    "sorted_df = Error_TimeGPT.sort_values(by='RMSSE')\n",
    "\n",
    "\n",
    "\n",
    "sorted_df.to_csv('results.csv')\n"
   ]
  },
  {
   "cell_type": "code",
   "execution_count": 36,
   "metadata": {},
   "outputs": [
    {
     "data": {
      "application/vnd.plotly.v1+json": {
       "config": {
        "plotlyServerURL": "https://plot.ly"
       },
       "data": [
        {
         "legendgroup": "y",
         "line": {
          "color": "#393b79",
          "width": 1
         },
         "mode": "lines",
         "name": "y",
         "showlegend": true,
         "type": "scatter",
         "x": [
          "1949-01-31T00:00:00",
          "1949-02-28T00:00:00",
          "1949-03-31T00:00:00",
          "1949-04-30T00:00:00",
          "1949-05-31T00:00:00",
          "1949-06-30T00:00:00",
          "1949-07-31T00:00:00",
          "1949-08-31T00:00:00",
          "1949-09-30T00:00:00",
          "1949-10-31T00:00:00",
          "1949-11-30T00:00:00",
          "1949-12-31T00:00:00",
          "1950-01-31T00:00:00",
          "1950-02-28T00:00:00",
          "1950-03-31T00:00:00",
          "1950-04-30T00:00:00",
          "1950-05-31T00:00:00",
          "1950-06-30T00:00:00",
          "1950-07-31T00:00:00",
          "1950-08-31T00:00:00",
          "1950-09-30T00:00:00",
          "1950-10-31T00:00:00",
          "1950-11-30T00:00:00",
          "1950-12-31T00:00:00",
          "1951-01-31T00:00:00",
          "1951-02-28T00:00:00",
          "1951-03-31T00:00:00",
          "1951-04-30T00:00:00",
          "1951-05-31T00:00:00",
          "1951-06-30T00:00:00",
          "1951-07-31T00:00:00",
          "1951-08-31T00:00:00",
          "1951-09-30T00:00:00",
          "1951-10-31T00:00:00",
          "1951-11-30T00:00:00",
          "1951-12-31T00:00:00",
          "1952-01-31T00:00:00",
          "1952-02-29T00:00:00",
          "1952-03-31T00:00:00",
          "1952-04-30T00:00:00",
          "1952-05-31T00:00:00",
          "1952-06-30T00:00:00",
          "1952-07-31T00:00:00",
          "1952-08-31T00:00:00",
          "1952-09-30T00:00:00",
          "1952-10-31T00:00:00",
          "1952-11-30T00:00:00",
          "1952-12-31T00:00:00",
          "1953-01-31T00:00:00",
          "1953-02-28T00:00:00",
          "1953-03-31T00:00:00",
          "1953-04-30T00:00:00",
          "1953-05-31T00:00:00",
          "1953-06-30T00:00:00",
          "1953-07-31T00:00:00",
          "1953-08-31T00:00:00",
          "1953-09-30T00:00:00",
          "1953-10-31T00:00:00",
          "1953-11-30T00:00:00",
          "1953-12-31T00:00:00",
          "1954-01-31T00:00:00",
          "1954-02-28T00:00:00",
          "1954-03-31T00:00:00",
          "1954-04-30T00:00:00",
          "1954-05-31T00:00:00",
          "1954-06-30T00:00:00",
          "1954-07-31T00:00:00",
          "1954-08-31T00:00:00",
          "1954-09-30T00:00:00",
          "1954-10-31T00:00:00",
          "1954-11-30T00:00:00",
          "1954-12-31T00:00:00",
          "1955-01-31T00:00:00",
          "1955-02-28T00:00:00",
          "1955-03-31T00:00:00",
          "1955-04-30T00:00:00",
          "1955-05-31T00:00:00",
          "1955-06-30T00:00:00",
          "1955-07-31T00:00:00",
          "1955-08-31T00:00:00",
          "1955-09-30T00:00:00",
          "1955-10-31T00:00:00",
          "1955-11-30T00:00:00",
          "1955-12-31T00:00:00",
          "1956-01-31T00:00:00",
          "1956-02-29T00:00:00",
          "1956-03-31T00:00:00",
          "1956-04-30T00:00:00",
          "1956-05-31T00:00:00",
          "1956-06-30T00:00:00",
          "1956-07-31T00:00:00",
          "1956-08-31T00:00:00",
          "1956-09-30T00:00:00",
          "1956-10-31T00:00:00",
          "1956-11-30T00:00:00",
          "1956-12-31T00:00:00",
          "1957-01-31T00:00:00",
          "1957-02-28T00:00:00",
          "1957-03-31T00:00:00",
          "1957-04-30T00:00:00",
          "1957-05-31T00:00:00",
          "1957-06-30T00:00:00",
          "1957-07-31T00:00:00",
          "1957-08-31T00:00:00",
          "1957-09-30T00:00:00",
          "1957-10-31T00:00:00",
          "1957-11-30T00:00:00",
          "1957-12-31T00:00:00",
          "1958-01-31T00:00:00",
          "1958-02-28T00:00:00",
          "1958-03-31T00:00:00",
          "1958-04-30T00:00:00",
          "1958-05-31T00:00:00",
          "1958-06-30T00:00:00",
          "1958-07-31T00:00:00",
          "1958-08-31T00:00:00",
          "1958-09-30T00:00:00",
          "1958-10-31T00:00:00",
          "1958-11-30T00:00:00",
          "1958-12-31T00:00:00",
          "1959-01-31T00:00:00",
          "1959-02-28T00:00:00",
          "1959-03-31T00:00:00",
          "1959-04-30T00:00:00",
          "1959-05-31T00:00:00",
          "1959-06-30T00:00:00",
          "1959-07-31T00:00:00",
          "1959-08-31T00:00:00",
          "1959-09-30T00:00:00",
          "1959-10-31T00:00:00",
          "1959-11-30T00:00:00",
          "1959-12-31T00:00:00",
          "1960-01-31T00:00:00",
          "1960-02-29T00:00:00",
          "1960-03-31T00:00:00",
          "1960-04-30T00:00:00",
          "1960-05-31T00:00:00",
          "1960-06-30T00:00:00",
          "1960-07-31T00:00:00",
          "1960-08-31T00:00:00",
          "1960-09-30T00:00:00",
          "1960-10-31T00:00:00",
          "1960-11-30T00:00:00",
          "1960-12-31T00:00:00",
          "1960-01-31T00:00:00",
          "1960-02-29T00:00:00",
          "1960-03-31T00:00:00",
          "1960-04-30T00:00:00",
          "1960-05-31T00:00:00",
          "1960-06-30T00:00:00",
          "1960-07-31T00:00:00",
          "1960-08-31T00:00:00",
          "1960-09-30T00:00:00",
          "1960-10-31T00:00:00",
          "1960-11-30T00:00:00",
          "1960-12-31T00:00:00"
         ],
         "xaxis": "x",
         "y": [
          112,
          118,
          132,
          129,
          121,
          135,
          148,
          148,
          136,
          119,
          104,
          118,
          115,
          126,
          141,
          135,
          125,
          149,
          170,
          170,
          158,
          133,
          114,
          140,
          145,
          150,
          178,
          163,
          172,
          178,
          199,
          199,
          184,
          162,
          146,
          166,
          171,
          180,
          193,
          181,
          183,
          218,
          230,
          242,
          209,
          191,
          172,
          194,
          196,
          196,
          236,
          235,
          229,
          243,
          264,
          272,
          237,
          211,
          180,
          201,
          204,
          188,
          235,
          227,
          234,
          264,
          302,
          293,
          259,
          229,
          203,
          229,
          242,
          233,
          267,
          269,
          270,
          315,
          364,
          347,
          312,
          274,
          237,
          278,
          284,
          277,
          317,
          313,
          318,
          374,
          413,
          405,
          355,
          306,
          271,
          306,
          315,
          301,
          356,
          348,
          355,
          422,
          465,
          467,
          404,
          347,
          305,
          336,
          340,
          318,
          362,
          348,
          363,
          435,
          491,
          505,
          404,
          359,
          310,
          337,
          360,
          342,
          406,
          396,
          420,
          472,
          548,
          559,
          463,
          407,
          362,
          405,
          417,
          391,
          419,
          461,
          472,
          535,
          622,
          606,
          508,
          461,
          390,
          432,
          null,
          null,
          null,
          null,
          null,
          null,
          null,
          null,
          null,
          null,
          null,
          null
         ],
         "yaxis": "y"
        },
        {
         "legendgroup": "TimeGPT",
         "line": {
          "color": "#e7ba52",
          "width": 1
         },
         "mode": "lines",
         "name": "TimeGPT",
         "showlegend": true,
         "type": "scatter",
         "x": [
          "1949-01-31T00:00:00",
          "1949-02-28T00:00:00",
          "1949-03-31T00:00:00",
          "1949-04-30T00:00:00",
          "1949-05-31T00:00:00",
          "1949-06-30T00:00:00",
          "1949-07-31T00:00:00",
          "1949-08-31T00:00:00",
          "1949-09-30T00:00:00",
          "1949-10-31T00:00:00",
          "1949-11-30T00:00:00",
          "1949-12-31T00:00:00",
          "1950-01-31T00:00:00",
          "1950-02-28T00:00:00",
          "1950-03-31T00:00:00",
          "1950-04-30T00:00:00",
          "1950-05-31T00:00:00",
          "1950-06-30T00:00:00",
          "1950-07-31T00:00:00",
          "1950-08-31T00:00:00",
          "1950-09-30T00:00:00",
          "1950-10-31T00:00:00",
          "1950-11-30T00:00:00",
          "1950-12-31T00:00:00",
          "1951-01-31T00:00:00",
          "1951-02-28T00:00:00",
          "1951-03-31T00:00:00",
          "1951-04-30T00:00:00",
          "1951-05-31T00:00:00",
          "1951-06-30T00:00:00",
          "1951-07-31T00:00:00",
          "1951-08-31T00:00:00",
          "1951-09-30T00:00:00",
          "1951-10-31T00:00:00",
          "1951-11-30T00:00:00",
          "1951-12-31T00:00:00",
          "1952-01-31T00:00:00",
          "1952-02-29T00:00:00",
          "1952-03-31T00:00:00",
          "1952-04-30T00:00:00",
          "1952-05-31T00:00:00",
          "1952-06-30T00:00:00",
          "1952-07-31T00:00:00",
          "1952-08-31T00:00:00",
          "1952-09-30T00:00:00",
          "1952-10-31T00:00:00",
          "1952-11-30T00:00:00",
          "1952-12-31T00:00:00",
          "1953-01-31T00:00:00",
          "1953-02-28T00:00:00",
          "1953-03-31T00:00:00",
          "1953-04-30T00:00:00",
          "1953-05-31T00:00:00",
          "1953-06-30T00:00:00",
          "1953-07-31T00:00:00",
          "1953-08-31T00:00:00",
          "1953-09-30T00:00:00",
          "1953-10-31T00:00:00",
          "1953-11-30T00:00:00",
          "1953-12-31T00:00:00",
          "1954-01-31T00:00:00",
          "1954-02-28T00:00:00",
          "1954-03-31T00:00:00",
          "1954-04-30T00:00:00",
          "1954-05-31T00:00:00",
          "1954-06-30T00:00:00",
          "1954-07-31T00:00:00",
          "1954-08-31T00:00:00",
          "1954-09-30T00:00:00",
          "1954-10-31T00:00:00",
          "1954-11-30T00:00:00",
          "1954-12-31T00:00:00",
          "1955-01-31T00:00:00",
          "1955-02-28T00:00:00",
          "1955-03-31T00:00:00",
          "1955-04-30T00:00:00",
          "1955-05-31T00:00:00",
          "1955-06-30T00:00:00",
          "1955-07-31T00:00:00",
          "1955-08-31T00:00:00",
          "1955-09-30T00:00:00",
          "1955-10-31T00:00:00",
          "1955-11-30T00:00:00",
          "1955-12-31T00:00:00",
          "1956-01-31T00:00:00",
          "1956-02-29T00:00:00",
          "1956-03-31T00:00:00",
          "1956-04-30T00:00:00",
          "1956-05-31T00:00:00",
          "1956-06-30T00:00:00",
          "1956-07-31T00:00:00",
          "1956-08-31T00:00:00",
          "1956-09-30T00:00:00",
          "1956-10-31T00:00:00",
          "1956-11-30T00:00:00",
          "1956-12-31T00:00:00",
          "1957-01-31T00:00:00",
          "1957-02-28T00:00:00",
          "1957-03-31T00:00:00",
          "1957-04-30T00:00:00",
          "1957-05-31T00:00:00",
          "1957-06-30T00:00:00",
          "1957-07-31T00:00:00",
          "1957-08-31T00:00:00",
          "1957-09-30T00:00:00",
          "1957-10-31T00:00:00",
          "1957-11-30T00:00:00",
          "1957-12-31T00:00:00",
          "1958-01-31T00:00:00",
          "1958-02-28T00:00:00",
          "1958-03-31T00:00:00",
          "1958-04-30T00:00:00",
          "1958-05-31T00:00:00",
          "1958-06-30T00:00:00",
          "1958-07-31T00:00:00",
          "1958-08-31T00:00:00",
          "1958-09-30T00:00:00",
          "1958-10-31T00:00:00",
          "1958-11-30T00:00:00",
          "1958-12-31T00:00:00",
          "1959-01-31T00:00:00",
          "1959-02-28T00:00:00",
          "1959-03-31T00:00:00",
          "1959-04-30T00:00:00",
          "1959-05-31T00:00:00",
          "1959-06-30T00:00:00",
          "1959-07-31T00:00:00",
          "1959-08-31T00:00:00",
          "1959-09-30T00:00:00",
          "1959-10-31T00:00:00",
          "1959-11-30T00:00:00",
          "1959-12-31T00:00:00",
          "1960-01-31T00:00:00",
          "1960-02-29T00:00:00",
          "1960-03-31T00:00:00",
          "1960-04-30T00:00:00",
          "1960-05-31T00:00:00",
          "1960-06-30T00:00:00",
          "1960-07-31T00:00:00",
          "1960-08-31T00:00:00",
          "1960-09-30T00:00:00",
          "1960-10-31T00:00:00",
          "1960-11-30T00:00:00",
          "1960-12-31T00:00:00",
          "1960-01-31T00:00:00",
          "1960-02-29T00:00:00",
          "1960-03-31T00:00:00",
          "1960-04-30T00:00:00",
          "1960-05-31T00:00:00",
          "1960-06-30T00:00:00",
          "1960-07-31T00:00:00",
          "1960-08-31T00:00:00",
          "1960-09-30T00:00:00",
          "1960-10-31T00:00:00",
          "1960-11-30T00:00:00",
          "1960-12-31T00:00:00"
         ],
         "xaxis": "x",
         "y": [
          null,
          null,
          null,
          null,
          null,
          null,
          null,
          null,
          null,
          null,
          null,
          null,
          null,
          null,
          null,
          null,
          null,
          null,
          null,
          null,
          null,
          null,
          null,
          null,
          null,
          null,
          null,
          null,
          null,
          null,
          null,
          null,
          null,
          null,
          null,
          null,
          null,
          null,
          null,
          null,
          null,
          null,
          null,
          null,
          null,
          null,
          null,
          null,
          null,
          null,
          null,
          null,
          null,
          null,
          null,
          null,
          null,
          null,
          null,
          null,
          null,
          null,
          null,
          null,
          null,
          null,
          null,
          null,
          null,
          null,
          null,
          null,
          null,
          null,
          null,
          null,
          null,
          null,
          null,
          null,
          null,
          null,
          null,
          null,
          null,
          null,
          null,
          null,
          null,
          null,
          null,
          null,
          null,
          null,
          null,
          null,
          null,
          null,
          null,
          null,
          null,
          null,
          null,
          null,
          null,
          null,
          null,
          null,
          null,
          null,
          null,
          null,
          null,
          null,
          null,
          null,
          null,
          null,
          null,
          null,
          null,
          null,
          null,
          null,
          null,
          null,
          null,
          null,
          null,
          null,
          null,
          null,
          null,
          null,
          null,
          null,
          null,
          null,
          null,
          null,
          null,
          null,
          null,
          null,
          414.5142822265625,
          403.2442626953125,
          443.127197265625,
          439.75091552734375,
          462.8365478515625,
          522.1852416992188,
          596.3753662109375,
          608.6567993164062,
          499.540283203125,
          446.06390380859375,
          398.2286071777344,
          421.83868408203125
         ],
         "yaxis": "y"
        },
        {
         "legendgroup": "origin",
         "line": {
          "color": "#de9ed6",
          "width": 1
         },
         "mode": "lines",
         "name": "origin",
         "showlegend": true,
         "type": "scatter",
         "x": [
          "1949-01-31T00:00:00",
          "1949-02-28T00:00:00",
          "1949-03-31T00:00:00",
          "1949-04-30T00:00:00",
          "1949-05-31T00:00:00",
          "1949-06-30T00:00:00",
          "1949-07-31T00:00:00",
          "1949-08-31T00:00:00",
          "1949-09-30T00:00:00",
          "1949-10-31T00:00:00",
          "1949-11-30T00:00:00",
          "1949-12-31T00:00:00",
          "1950-01-31T00:00:00",
          "1950-02-28T00:00:00",
          "1950-03-31T00:00:00",
          "1950-04-30T00:00:00",
          "1950-05-31T00:00:00",
          "1950-06-30T00:00:00",
          "1950-07-31T00:00:00",
          "1950-08-31T00:00:00",
          "1950-09-30T00:00:00",
          "1950-10-31T00:00:00",
          "1950-11-30T00:00:00",
          "1950-12-31T00:00:00",
          "1951-01-31T00:00:00",
          "1951-02-28T00:00:00",
          "1951-03-31T00:00:00",
          "1951-04-30T00:00:00",
          "1951-05-31T00:00:00",
          "1951-06-30T00:00:00",
          "1951-07-31T00:00:00",
          "1951-08-31T00:00:00",
          "1951-09-30T00:00:00",
          "1951-10-31T00:00:00",
          "1951-11-30T00:00:00",
          "1951-12-31T00:00:00",
          "1952-01-31T00:00:00",
          "1952-02-29T00:00:00",
          "1952-03-31T00:00:00",
          "1952-04-30T00:00:00",
          "1952-05-31T00:00:00",
          "1952-06-30T00:00:00",
          "1952-07-31T00:00:00",
          "1952-08-31T00:00:00",
          "1952-09-30T00:00:00",
          "1952-10-31T00:00:00",
          "1952-11-30T00:00:00",
          "1952-12-31T00:00:00",
          "1953-01-31T00:00:00",
          "1953-02-28T00:00:00",
          "1953-03-31T00:00:00",
          "1953-04-30T00:00:00",
          "1953-05-31T00:00:00",
          "1953-06-30T00:00:00",
          "1953-07-31T00:00:00",
          "1953-08-31T00:00:00",
          "1953-09-30T00:00:00",
          "1953-10-31T00:00:00",
          "1953-11-30T00:00:00",
          "1953-12-31T00:00:00",
          "1954-01-31T00:00:00",
          "1954-02-28T00:00:00",
          "1954-03-31T00:00:00",
          "1954-04-30T00:00:00",
          "1954-05-31T00:00:00",
          "1954-06-30T00:00:00",
          "1954-07-31T00:00:00",
          "1954-08-31T00:00:00",
          "1954-09-30T00:00:00",
          "1954-10-31T00:00:00",
          "1954-11-30T00:00:00",
          "1954-12-31T00:00:00",
          "1955-01-31T00:00:00",
          "1955-02-28T00:00:00",
          "1955-03-31T00:00:00",
          "1955-04-30T00:00:00",
          "1955-05-31T00:00:00",
          "1955-06-30T00:00:00",
          "1955-07-31T00:00:00",
          "1955-08-31T00:00:00",
          "1955-09-30T00:00:00",
          "1955-10-31T00:00:00",
          "1955-11-30T00:00:00",
          "1955-12-31T00:00:00",
          "1956-01-31T00:00:00",
          "1956-02-29T00:00:00",
          "1956-03-31T00:00:00",
          "1956-04-30T00:00:00",
          "1956-05-31T00:00:00",
          "1956-06-30T00:00:00",
          "1956-07-31T00:00:00",
          "1956-08-31T00:00:00",
          "1956-09-30T00:00:00",
          "1956-10-31T00:00:00",
          "1956-11-30T00:00:00",
          "1956-12-31T00:00:00",
          "1957-01-31T00:00:00",
          "1957-02-28T00:00:00",
          "1957-03-31T00:00:00",
          "1957-04-30T00:00:00",
          "1957-05-31T00:00:00",
          "1957-06-30T00:00:00",
          "1957-07-31T00:00:00",
          "1957-08-31T00:00:00",
          "1957-09-30T00:00:00",
          "1957-10-31T00:00:00",
          "1957-11-30T00:00:00",
          "1957-12-31T00:00:00",
          "1958-01-31T00:00:00",
          "1958-02-28T00:00:00",
          "1958-03-31T00:00:00",
          "1958-04-30T00:00:00",
          "1958-05-31T00:00:00",
          "1958-06-30T00:00:00",
          "1958-07-31T00:00:00",
          "1958-08-31T00:00:00",
          "1958-09-30T00:00:00",
          "1958-10-31T00:00:00",
          "1958-11-30T00:00:00",
          "1958-12-31T00:00:00",
          "1959-01-31T00:00:00",
          "1959-02-28T00:00:00",
          "1959-03-31T00:00:00",
          "1959-04-30T00:00:00",
          "1959-05-31T00:00:00",
          "1959-06-30T00:00:00",
          "1959-07-31T00:00:00",
          "1959-08-31T00:00:00",
          "1959-09-30T00:00:00",
          "1959-10-31T00:00:00",
          "1959-11-30T00:00:00",
          "1959-12-31T00:00:00",
          "1960-01-31T00:00:00",
          "1960-02-29T00:00:00",
          "1960-03-31T00:00:00",
          "1960-04-30T00:00:00",
          "1960-05-31T00:00:00",
          "1960-06-30T00:00:00",
          "1960-07-31T00:00:00",
          "1960-08-31T00:00:00",
          "1960-09-30T00:00:00",
          "1960-10-31T00:00:00",
          "1960-11-30T00:00:00",
          "1960-12-31T00:00:00",
          "1960-01-31T00:00:00",
          "1960-02-29T00:00:00",
          "1960-03-31T00:00:00",
          "1960-04-30T00:00:00",
          "1960-05-31T00:00:00",
          "1960-06-30T00:00:00",
          "1960-07-31T00:00:00",
          "1960-08-31T00:00:00",
          "1960-09-30T00:00:00",
          "1960-10-31T00:00:00",
          "1960-11-30T00:00:00",
          "1960-12-31T00:00:00"
         ],
         "xaxis": "x",
         "y": [
          null,
          null,
          null,
          null,
          null,
          null,
          null,
          null,
          null,
          null,
          null,
          null,
          null,
          null,
          null,
          null,
          null,
          null,
          null,
          null,
          null,
          null,
          null,
          null,
          null,
          null,
          null,
          null,
          null,
          null,
          null,
          null,
          null,
          null,
          null,
          null,
          null,
          null,
          null,
          null,
          null,
          null,
          null,
          null,
          null,
          null,
          null,
          null,
          null,
          null,
          null,
          null,
          null,
          null,
          null,
          null,
          null,
          null,
          null,
          null,
          null,
          null,
          null,
          null,
          null,
          null,
          null,
          null,
          null,
          null,
          null,
          null,
          null,
          null,
          null,
          null,
          null,
          null,
          null,
          null,
          null,
          null,
          null,
          null,
          null,
          null,
          null,
          null,
          null,
          null,
          null,
          null,
          null,
          null,
          null,
          null,
          null,
          null,
          null,
          null,
          null,
          null,
          null,
          null,
          null,
          null,
          null,
          null,
          null,
          null,
          null,
          null,
          null,
          null,
          null,
          null,
          null,
          null,
          null,
          null,
          null,
          null,
          null,
          null,
          null,
          null,
          null,
          null,
          null,
          null,
          null,
          null,
          null,
          null,
          null,
          null,
          null,
          null,
          null,
          null,
          null,
          null,
          null,
          null,
          132,
          132,
          132,
          132,
          132,
          132,
          132,
          132,
          132,
          132,
          132,
          132
         ],
         "yaxis": "y"
        }
       ],
       "layout": {
        "annotations": [
         {
          "font": {
           "size": 10
          },
          "showarrow": false,
          "text": "unique_id=1.0",
          "x": 0.5,
          "xanchor": "center",
          "xref": "paper",
          "y": 1,
          "yanchor": "bottom",
          "yref": "paper"
         },
         {
          "font": {
           "size": 10
          },
          "showarrow": false,
          "text": "Time [ds]",
          "x": 0.5,
          "xanchor": "center",
          "xref": "paper",
          "y": 0,
          "yanchor": "top",
          "yref": "paper",
          "yshift": -30
         },
         {
          "font": {
           "size": 10
          },
          "showarrow": false,
          "text": "Target [y]",
          "textangle": -90,
          "x": 0,
          "xanchor": "right",
          "xref": "paper",
          "xshift": -40,
          "y": 0.5,
          "yanchor": "middle",
          "yref": "paper"
         }
        ],
        "autosize": true,
        "font": {
         "size": 10
        },
        "height": 200,
        "margin": {
         "b": 50,
         "l": 60,
         "r": 10,
         "t": 20
        },
        "template": {
         "data": {
          "bar": [
           {
            "error_x": {
             "color": "#2a3f5f"
            },
            "error_y": {
             "color": "#2a3f5f"
            },
            "marker": {
             "line": {
              "color": "white",
              "width": 0.5
             },
             "pattern": {
              "fillmode": "overlay",
              "size": 10,
              "solidity": 0.2
             }
            },
            "type": "bar"
           }
          ],
          "barpolar": [
           {
            "marker": {
             "line": {
              "color": "white",
              "width": 0.5
             },
             "pattern": {
              "fillmode": "overlay",
              "size": 10,
              "solidity": 0.2
             }
            },
            "type": "barpolar"
           }
          ],
          "carpet": [
           {
            "aaxis": {
             "endlinecolor": "#2a3f5f",
             "gridcolor": "#C8D4E3",
             "linecolor": "#C8D4E3",
             "minorgridcolor": "#C8D4E3",
             "startlinecolor": "#2a3f5f"
            },
            "baxis": {
             "endlinecolor": "#2a3f5f",
             "gridcolor": "#C8D4E3",
             "linecolor": "#C8D4E3",
             "minorgridcolor": "#C8D4E3",
             "startlinecolor": "#2a3f5f"
            },
            "type": "carpet"
           }
          ],
          "choropleth": [
           {
            "colorbar": {
             "outlinewidth": 0,
             "ticks": ""
            },
            "type": "choropleth"
           }
          ],
          "contour": [
           {
            "colorbar": {
             "outlinewidth": 0,
             "ticks": ""
            },
            "colorscale": [
             [
              0,
              "#0d0887"
             ],
             [
              0.1111111111111111,
              "#46039f"
             ],
             [
              0.2222222222222222,
              "#7201a8"
             ],
             [
              0.3333333333333333,
              "#9c179e"
             ],
             [
              0.4444444444444444,
              "#bd3786"
             ],
             [
              0.5555555555555556,
              "#d8576b"
             ],
             [
              0.6666666666666666,
              "#ed7953"
             ],
             [
              0.7777777777777778,
              "#fb9f3a"
             ],
             [
              0.8888888888888888,
              "#fdca26"
             ],
             [
              1,
              "#f0f921"
             ]
            ],
            "type": "contour"
           }
          ],
          "contourcarpet": [
           {
            "colorbar": {
             "outlinewidth": 0,
             "ticks": ""
            },
            "type": "contourcarpet"
           }
          ],
          "heatmap": [
           {
            "colorbar": {
             "outlinewidth": 0,
             "ticks": ""
            },
            "colorscale": [
             [
              0,
              "#0d0887"
             ],
             [
              0.1111111111111111,
              "#46039f"
             ],
             [
              0.2222222222222222,
              "#7201a8"
             ],
             [
              0.3333333333333333,
              "#9c179e"
             ],
             [
              0.4444444444444444,
              "#bd3786"
             ],
             [
              0.5555555555555556,
              "#d8576b"
             ],
             [
              0.6666666666666666,
              "#ed7953"
             ],
             [
              0.7777777777777778,
              "#fb9f3a"
             ],
             [
              0.8888888888888888,
              "#fdca26"
             ],
             [
              1,
              "#f0f921"
             ]
            ],
            "type": "heatmap"
           }
          ],
          "heatmapgl": [
           {
            "colorbar": {
             "outlinewidth": 0,
             "ticks": ""
            },
            "colorscale": [
             [
              0,
              "#0d0887"
             ],
             [
              0.1111111111111111,
              "#46039f"
             ],
             [
              0.2222222222222222,
              "#7201a8"
             ],
             [
              0.3333333333333333,
              "#9c179e"
             ],
             [
              0.4444444444444444,
              "#bd3786"
             ],
             [
              0.5555555555555556,
              "#d8576b"
             ],
             [
              0.6666666666666666,
              "#ed7953"
             ],
             [
              0.7777777777777778,
              "#fb9f3a"
             ],
             [
              0.8888888888888888,
              "#fdca26"
             ],
             [
              1,
              "#f0f921"
             ]
            ],
            "type": "heatmapgl"
           }
          ],
          "histogram": [
           {
            "marker": {
             "pattern": {
              "fillmode": "overlay",
              "size": 10,
              "solidity": 0.2
             }
            },
            "type": "histogram"
           }
          ],
          "histogram2d": [
           {
            "colorbar": {
             "outlinewidth": 0,
             "ticks": ""
            },
            "colorscale": [
             [
              0,
              "#0d0887"
             ],
             [
              0.1111111111111111,
              "#46039f"
             ],
             [
              0.2222222222222222,
              "#7201a8"
             ],
             [
              0.3333333333333333,
              "#9c179e"
             ],
             [
              0.4444444444444444,
              "#bd3786"
             ],
             [
              0.5555555555555556,
              "#d8576b"
             ],
             [
              0.6666666666666666,
              "#ed7953"
             ],
             [
              0.7777777777777778,
              "#fb9f3a"
             ],
             [
              0.8888888888888888,
              "#fdca26"
             ],
             [
              1,
              "#f0f921"
             ]
            ],
            "type": "histogram2d"
           }
          ],
          "histogram2dcontour": [
           {
            "colorbar": {
             "outlinewidth": 0,
             "ticks": ""
            },
            "colorscale": [
             [
              0,
              "#0d0887"
             ],
             [
              0.1111111111111111,
              "#46039f"
             ],
             [
              0.2222222222222222,
              "#7201a8"
             ],
             [
              0.3333333333333333,
              "#9c179e"
             ],
             [
              0.4444444444444444,
              "#bd3786"
             ],
             [
              0.5555555555555556,
              "#d8576b"
             ],
             [
              0.6666666666666666,
              "#ed7953"
             ],
             [
              0.7777777777777778,
              "#fb9f3a"
             ],
             [
              0.8888888888888888,
              "#fdca26"
             ],
             [
              1,
              "#f0f921"
             ]
            ],
            "type": "histogram2dcontour"
           }
          ],
          "mesh3d": [
           {
            "colorbar": {
             "outlinewidth": 0,
             "ticks": ""
            },
            "type": "mesh3d"
           }
          ],
          "parcoords": [
           {
            "line": {
             "colorbar": {
              "outlinewidth": 0,
              "ticks": ""
             }
            },
            "type": "parcoords"
           }
          ],
          "pie": [
           {
            "automargin": true,
            "type": "pie"
           }
          ],
          "scatter": [
           {
            "fillpattern": {
             "fillmode": "overlay",
             "size": 10,
             "solidity": 0.2
            },
            "type": "scatter"
           }
          ],
          "scatter3d": [
           {
            "line": {
             "colorbar": {
              "outlinewidth": 0,
              "ticks": ""
             }
            },
            "marker": {
             "colorbar": {
              "outlinewidth": 0,
              "ticks": ""
             }
            },
            "type": "scatter3d"
           }
          ],
          "scattercarpet": [
           {
            "marker": {
             "colorbar": {
              "outlinewidth": 0,
              "ticks": ""
             }
            },
            "type": "scattercarpet"
           }
          ],
          "scattergeo": [
           {
            "marker": {
             "colorbar": {
              "outlinewidth": 0,
              "ticks": ""
             }
            },
            "type": "scattergeo"
           }
          ],
          "scattergl": [
           {
            "marker": {
             "colorbar": {
              "outlinewidth": 0,
              "ticks": ""
             }
            },
            "type": "scattergl"
           }
          ],
          "scattermapbox": [
           {
            "marker": {
             "colorbar": {
              "outlinewidth": 0,
              "ticks": ""
             }
            },
            "type": "scattermapbox"
           }
          ],
          "scatterpolar": [
           {
            "marker": {
             "colorbar": {
              "outlinewidth": 0,
              "ticks": ""
             }
            },
            "type": "scatterpolar"
           }
          ],
          "scatterpolargl": [
           {
            "marker": {
             "colorbar": {
              "outlinewidth": 0,
              "ticks": ""
             }
            },
            "type": "scatterpolargl"
           }
          ],
          "scatterternary": [
           {
            "marker": {
             "colorbar": {
              "outlinewidth": 0,
              "ticks": ""
             }
            },
            "type": "scatterternary"
           }
          ],
          "surface": [
           {
            "colorbar": {
             "outlinewidth": 0,
             "ticks": ""
            },
            "colorscale": [
             [
              0,
              "#0d0887"
             ],
             [
              0.1111111111111111,
              "#46039f"
             ],
             [
              0.2222222222222222,
              "#7201a8"
             ],
             [
              0.3333333333333333,
              "#9c179e"
             ],
             [
              0.4444444444444444,
              "#bd3786"
             ],
             [
              0.5555555555555556,
              "#d8576b"
             ],
             [
              0.6666666666666666,
              "#ed7953"
             ],
             [
              0.7777777777777778,
              "#fb9f3a"
             ],
             [
              0.8888888888888888,
              "#fdca26"
             ],
             [
              1,
              "#f0f921"
             ]
            ],
            "type": "surface"
           }
          ],
          "table": [
           {
            "cells": {
             "fill": {
              "color": "#EBF0F8"
             },
             "line": {
              "color": "white"
             }
            },
            "header": {
             "fill": {
              "color": "#C8D4E3"
             },
             "line": {
              "color": "white"
             }
            },
            "type": "table"
           }
          ]
         },
         "layout": {
          "annotationdefaults": {
           "arrowcolor": "#2a3f5f",
           "arrowhead": 0,
           "arrowwidth": 1
          },
          "autotypenumbers": "strict",
          "coloraxis": {
           "colorbar": {
            "outlinewidth": 0,
            "ticks": ""
           }
          },
          "colorscale": {
           "diverging": [
            [
             0,
             "#8e0152"
            ],
            [
             0.1,
             "#c51b7d"
            ],
            [
             0.2,
             "#de77ae"
            ],
            [
             0.3,
             "#f1b6da"
            ],
            [
             0.4,
             "#fde0ef"
            ],
            [
             0.5,
             "#f7f7f7"
            ],
            [
             0.6,
             "#e6f5d0"
            ],
            [
             0.7,
             "#b8e186"
            ],
            [
             0.8,
             "#7fbc41"
            ],
            [
             0.9,
             "#4d9221"
            ],
            [
             1,
             "#276419"
            ]
           ],
           "sequential": [
            [
             0,
             "#0d0887"
            ],
            [
             0.1111111111111111,
             "#46039f"
            ],
            [
             0.2222222222222222,
             "#7201a8"
            ],
            [
             0.3333333333333333,
             "#9c179e"
            ],
            [
             0.4444444444444444,
             "#bd3786"
            ],
            [
             0.5555555555555556,
             "#d8576b"
            ],
            [
             0.6666666666666666,
             "#ed7953"
            ],
            [
             0.7777777777777778,
             "#fb9f3a"
            ],
            [
             0.8888888888888888,
             "#fdca26"
            ],
            [
             1,
             "#f0f921"
            ]
           ],
           "sequentialminus": [
            [
             0,
             "#0d0887"
            ],
            [
             0.1111111111111111,
             "#46039f"
            ],
            [
             0.2222222222222222,
             "#7201a8"
            ],
            [
             0.3333333333333333,
             "#9c179e"
            ],
            [
             0.4444444444444444,
             "#bd3786"
            ],
            [
             0.5555555555555556,
             "#d8576b"
            ],
            [
             0.6666666666666666,
             "#ed7953"
            ],
            [
             0.7777777777777778,
             "#fb9f3a"
            ],
            [
             0.8888888888888888,
             "#fdca26"
            ],
            [
             1,
             "#f0f921"
            ]
           ]
          },
          "colorway": [
           "#636efa",
           "#EF553B",
           "#00cc96",
           "#ab63fa",
           "#FFA15A",
           "#19d3f3",
           "#FF6692",
           "#B6E880",
           "#FF97FF",
           "#FECB52"
          ],
          "font": {
           "color": "#2a3f5f"
          },
          "geo": {
           "bgcolor": "white",
           "lakecolor": "white",
           "landcolor": "white",
           "showlakes": true,
           "showland": true,
           "subunitcolor": "#C8D4E3"
          },
          "hoverlabel": {
           "align": "left"
          },
          "hovermode": "closest",
          "mapbox": {
           "style": "light"
          },
          "paper_bgcolor": "white",
          "plot_bgcolor": "white",
          "polar": {
           "angularaxis": {
            "gridcolor": "#EBF0F8",
            "linecolor": "#EBF0F8",
            "ticks": ""
           },
           "bgcolor": "white",
           "radialaxis": {
            "gridcolor": "#EBF0F8",
            "linecolor": "#EBF0F8",
            "ticks": ""
           }
          },
          "scene": {
           "xaxis": {
            "backgroundcolor": "white",
            "gridcolor": "#DFE8F3",
            "gridwidth": 2,
            "linecolor": "#EBF0F8",
            "showbackground": true,
            "ticks": "",
            "zerolinecolor": "#EBF0F8"
           },
           "yaxis": {
            "backgroundcolor": "white",
            "gridcolor": "#DFE8F3",
            "gridwidth": 2,
            "linecolor": "#EBF0F8",
            "showbackground": true,
            "ticks": "",
            "zerolinecolor": "#EBF0F8"
           },
           "zaxis": {
            "backgroundcolor": "white",
            "gridcolor": "#DFE8F3",
            "gridwidth": 2,
            "linecolor": "#EBF0F8",
            "showbackground": true,
            "ticks": "",
            "zerolinecolor": "#EBF0F8"
           }
          },
          "shapedefaults": {
           "line": {
            "color": "#2a3f5f"
           }
          },
          "ternary": {
           "aaxis": {
            "gridcolor": "#DFE8F3",
            "linecolor": "#A2B1C6",
            "ticks": ""
           },
           "baxis": {
            "gridcolor": "#DFE8F3",
            "linecolor": "#A2B1C6",
            "ticks": ""
           },
           "bgcolor": "white",
           "caxis": {
            "gridcolor": "#DFE8F3",
            "linecolor": "#A2B1C6",
            "ticks": ""
           }
          },
          "title": {
           "x": 0.05
          },
          "xaxis": {
           "automargin": true,
           "gridcolor": "#EBF0F8",
           "linecolor": "#EBF0F8",
           "ticks": "",
           "title": {
            "standoff": 15
           },
           "zerolinecolor": "#EBF0F8",
           "zerolinewidth": 2
          },
          "yaxis": {
           "automargin": true,
           "gridcolor": "#EBF0F8",
           "linecolor": "#EBF0F8",
           "ticks": "",
           "title": {
            "standoff": 15
           },
           "zerolinecolor": "#EBF0F8",
           "zerolinewidth": 2
          }
         }
        },
        "xaxis": {
         "anchor": "y",
         "domain": [
          0,
          1
         ],
         "showticklabels": true,
         "visible": true
        },
        "yaxis": {
         "anchor": "x",
         "domain": [
          0,
          1
         ]
        }
       }
      }
     },
     "metadata": {},
     "output_type": "display_data"
    }
   ],
   "source": [
    "sf.plot(df,forecasts_df,engine='plotly')"
   ]
  },
  {
   "cell_type": "code",
   "execution_count": 39,
   "metadata": {},
   "outputs": [],
   "source": [
    "combined_error_statsforecast.to_csv('forecast_timegpt.csv')"
   ]
  },
  {
   "cell_type": "code",
   "execution_count": 32,
   "metadata": {},
   "outputs": [
    {
     "ename": "NameError",
     "evalue": "name 'forecasts_df_tree' is not defined",
     "output_type": "error",
     "traceback": [
      "\u001b[1;31m---------------------------------------------------------------------------\u001b[0m",
      "\u001b[1;31mNameError\u001b[0m                                 Traceback (most recent call last)",
      "Cell \u001b[1;32mIn[32], line 1\u001b[0m\n\u001b[1;32m----> 1\u001b[0m sf\u001b[38;5;241m.\u001b[39mplot(df,\u001b[43mforecasts_df_tree\u001b[49m\u001b[38;5;241m.\u001b[39mreset_index())\n",
      "\u001b[1;31mNameError\u001b[0m: name 'forecasts_df_tree' is not defined"
     ]
    }
   ],
   "source": [
    "sf.plot(df,forecasts_df_tree.reset_index())\n"
   ]
  },
  {
   "cell_type": "code",
   "execution_count": null,
   "metadata": {},
   "outputs": [],
   "source": [
    "sf.plot(df,forecasts_df_neural,engine='plotly')\n"
   ]
  },
  {
   "cell_type": "code",
   "execution_count": null,
   "metadata": {},
   "outputs": [],
   "source": [
    "sf.plot(df,forecasts_df_timegpt)\n"
   ]
  }
 ],
 "metadata": {
  "kernelspec": {
   "display_name": "Python 3",
   "language": "python",
   "name": "python3"
  },
  "language_info": {
   "codemirror_mode": {
    "name": "ipython",
    "version": 3
   },
   "file_extension": ".py",
   "mimetype": "text/x-python",
   "name": "python",
   "nbconvert_exporter": "python",
   "pygments_lexer": "ipython3",
   "version": "3.9.5"
  }
 },
 "nbformat": 4,
 "nbformat_minor": 2
}
